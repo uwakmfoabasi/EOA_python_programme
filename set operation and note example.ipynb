{
 "cells": [
  {
   "cell_type": "code",
   "execution_count": 5,
   "id": "66885ca8",
   "metadata": {},
   "outputs": [
    {
     "name": "stdout",
     "output_type": "stream",
     "text": [
      "please enter the lowest range: 1\n",
      "please enter the highest range: 10\n",
      "odd numbers are 5\n",
      "even numbers are 4\n"
     ]
    }
   ],
   "source": [
    "#Assignment\n",
    "#To check odd and even numbers\n",
    "count_odd=0\n",
    "count_even=0\n",
    "var_1=int(input('please enter the lowest range: '))\n",
    "var_2=int(input('please enter the highest range: '))\n",
    "for i in range(var_1,var_2,):\n",
    "  if i%2 ==0:\n",
    "    count_even+=1\n",
    "  else:\n",
    "    count_odd+=1\n",
    "print('odd numbers are',count_odd)\n",
    "print('even numbers are',count_even)"
   ]
  },
  {
   "cell_type": "code",
   "execution_count": 26,
   "id": "64ba3dc7",
   "metadata": {},
   "outputs": [
    {
     "name": "stdout",
     "output_type": "stream",
     "text": [
      "to calculate for the sum of the first n positive integers sum(1..n)\n",
      "please enter the value of the n: 100\n",
      "sum(1..100)= 5050.0\n"
     ]
    }
   ],
   "source": [
    "# to find the sum of the fist  nth term(enter in the input)\n",
    "print('to calculate for the sum of the first n positive integers sum(1..n)')\n",
    "n= int(input('please enter the value of the n: '))\n",
    "br=n*(n+1)\n",
    "sum_n=br/2\n",
    "print('sum(' + str(1) +'..' +str(n) + ')=',sum_n)"
   ]
  },
  {
   "cell_type": "code",
   "execution_count": 6,
   "id": "65a62c01",
   "metadata": {},
   "outputs": [
    {
     "name": "stdout",
     "output_type": "stream",
     "text": [
      "<class 'dict'>\n"
     ]
    }
   ],
   "source": [
    "#showing that an empty set is taken as dictionary to python\n",
    "sect_4 ={}\n",
    "print(type(sect_4)"
   ]
  },
  {
   "cell_type": "code",
   "execution_count": 7,
   "id": "98b17ea2",
   "metadata": {},
   "outputs": [
    {
     "name": "stdout",
     "output_type": "stream",
     "text": [
      "set()\n"
     ]
    }
   ],
   "source": [
    "#forming a empty set\n",
    "set_3=set()\n",
    "print(set_3)"
   ]
  },
  {
   "cell_type": "code",
   "execution_count": 10,
   "id": "bee44ee8",
   "metadata": {},
   "outputs": [
    {
     "name": "stdout",
     "output_type": "stream",
     "text": [
      "{1, 2, 3, 4, 5, 6, 8, 9}\n"
     ]
    }
   ],
   "source": [
    "#union opperation on set\n",
    "set_1 = {1,2,3,4,5}\n",
    "set_2 = {2,9,8,3,5,6}\n",
    "union_ = set_1.union(set_2)\n",
    "print(union_)"
   ]
  },
  {
   "cell_type": "code",
   "execution_count": 11,
   "id": "87af2975",
   "metadata": {},
   "outputs": [
    {
     "name": "stdout",
     "output_type": "stream",
     "text": [
      "{1, 2, 3, 4, 5, 6, 8, 9}\n"
     ]
    }
   ],
   "source": [
    "#union opperation on set\n",
    "union_2 = set_1|set_2\n",
    "print(union_2)"
   ]
  },
  {
   "cell_type": "code",
   "execution_count": 12,
   "id": "bb28960e",
   "metadata": {},
   "outputs": [
    {
     "name": "stdout",
     "output_type": "stream",
     "text": [
      "{2, 3, 5}\n"
     ]
    }
   ],
   "source": [
    "#intersection opperation\n",
    "intersection = set_1.intersection(set_2)\n",
    "print(intersection)"
   ]
  },
  {
   "cell_type": "code",
   "execution_count": 13,
   "id": "cfb58374",
   "metadata": {},
   "outputs": [
    {
     "name": "stdout",
     "output_type": "stream",
     "text": [
      "{2, 3, 5}\n"
     ]
    }
   ],
   "source": [
    "#intersection opperation\n",
    "intsect_2 = set_1&set_2\n",
    "print(intsect_2)"
   ]
  },
  {
   "cell_type": "code",
   "execution_count": 15,
   "id": "713d4235",
   "metadata": {},
   "outputs": [
    {
     "name": "stdout",
     "output_type": "stream",
     "text": [
      "{1, 4}\n"
     ]
    }
   ],
   "source": [
    "#difference opperation\n",
    "diff = set_1.difference(set_2)\n",
    "print(diff)"
   ]
  },
  {
   "cell_type": "code",
   "execution_count": 16,
   "id": "e44b3956",
   "metadata": {},
   "outputs": [
    {
     "name": "stdout",
     "output_type": "stream",
     "text": [
      "{1, 4}\n"
     ]
    }
   ],
   "source": [
    "#difference opperation\n",
    "diff_1 = set_1-set_2\n",
    "print(diff_1)"
   ]
  },
  {
   "cell_type": "code",
   "execution_count": 17,
   "id": "673401e2",
   "metadata": {},
   "outputs": [
    {
     "name": "stdout",
     "output_type": "stream",
     "text": [
      "{8, 9, 6}\n"
     ]
    }
   ],
   "source": [
    "#difference opperation\n",
    "diff_2 = set_2-set_1\n",
    "print(diff_2)"
   ]
  },
  {
   "cell_type": "code",
   "execution_count": 34,
   "id": "37c12455",
   "metadata": {},
   "outputs": [
    {
     "name": "stdout",
     "output_type": "stream",
     "text": [
      "{1, 2, 3, 4, 5, 'mango', 'orange'}\n"
     ]
    }
   ],
   "source": [
    "#adding element to a set\n",
    "set_3 = {'orange','mango'}\n",
    "set_1.update(set_3)\n",
    "print(set_1)"
   ]
  },
  {
   "cell_type": "code",
   "execution_count": 35,
   "id": "63b3300e",
   "metadata": {},
   "outputs": [
    {
     "name": "stdout",
     "output_type": "stream",
     "text": [
      "{1, 2, 3, 4, 5, 'mango'}\n"
     ]
    }
   ],
   "source": [
    "#to remove an element from a set\n",
    "set_1.remove(\"orange\")\n",
    "print(set_1)"
   ]
  },
  {
   "cell_type": "code",
   "execution_count": 39,
   "id": "8501eca0",
   "metadata": {},
   "outputs": [
    {
     "name": "stdout",
     "output_type": "stream",
     "text": [
      "True\n"
     ]
    }
   ],
   "source": [
    "#disjiont of two set\n",
    "dis= set_2.isdisjoint(set_3)\n",
    "print(dis)"
   ]
  },
  {
   "cell_type": "code",
   "execution_count": 40,
   "id": "3250e28c",
   "metadata": {},
   "outputs": [
    {
     "name": "stdout",
     "output_type": "stream",
     "text": [
      "False\n"
     ]
    }
   ],
   "source": [
    "#subset of two set\n",
    "sub = set_3.issubset(set_1)\n",
    "print(sub)"
   ]
  },
  {
   "cell_type": "code",
   "execution_count": 41,
   "id": "dff91472",
   "metadata": {},
   "outputs": [
    {
     "name": "stdout",
     "output_type": "stream",
     "text": [
      "False\n"
     ]
    }
   ],
   "source": [
    "#superset of two set\n",
    "sup = set_1.issuperset(set_3)\n",
    "print(sup)"
   ]
  },
  {
   "cell_type": "code",
   "execution_count": 42,
   "id": "1408e4bf",
   "metadata": {},
   "outputs": [
    {
     "name": "stdout",
     "output_type": "stream",
     "text": [
      "{1, 4, 'mango', 6, 8, 9}\n"
     ]
    }
   ],
   "source": [
    "#symertric difference\n",
    "sym =set_1.symmetric_difference(set_2)\n",
    "print(sym)"
   ]
  },
  {
   "cell_type": "code",
   "execution_count": 46,
   "id": "8241b7c1",
   "metadata": {},
   "outputs": [],
   "source": [
    "#creating a dictionary\n",
    "dict_1 = {'one':1,'two':2,'three':3,'four':4,'five':5,'six':6,'seven':7,'eight':8,\"nine\":9,'ten':10}"
   ]
  },
  {
   "cell_type": "code",
   "execution_count": 49,
   "id": "01e7a9cb",
   "metadata": {},
   "outputs": [
    {
     "name": "stdout",
     "output_type": "stream",
     "text": [
      "dict_values([1, 2, 3, 4, 5, 6, 7, 8, 9, 10])\n"
     ]
    }
   ],
   "source": [
    "#finding the vales in the dictionary\n",
    "value = dict_1.values()\n",
    "print(value)"
   ]
  },
  {
   "cell_type": "code",
   "execution_count": 50,
   "id": "5ec21c83",
   "metadata": {},
   "outputs": [
    {
     "name": "stdout",
     "output_type": "stream",
     "text": [
      "dict_keys(['one', 'two', 'three', 'four', 'five', 'six', 'seven', 'eight', 'nine', 'ten'])\n"
     ]
    }
   ],
   "source": [
    "#finding the keys in the dictionary\n",
    "key = dict_1.keys()\n",
    "print(key)"
   ]
  },
  {
   "cell_type": "code",
   "execution_count": 56,
   "id": "553c678e",
   "metadata": {},
   "outputs": [
    {
     "name": "stdout",
     "output_type": "stream",
     "text": [
      "{'one': 1, 'two': 2, 'three': 3, 'four': 4, 'five': 5, 'six': 6, 'seven': 7, 'eight': 8, 'nine': 9, 'ten': 10}\n"
     ]
    }
   ],
   "source": [
    "#copying dictionarys\n",
    "dict_2 = dict_1.copy()\n",
    "print(dict_2)"
   ]
  },
  {
   "cell_type": "markdown",
   "id": "f59c728b",
   "metadata": {},
   "source": []
  },
  {
   "cell_type": "code",
   "execution_count": 58,
   "id": "aa545cb8",
   "metadata": {},
   "outputs": [
    {
     "name": "stdout",
     "output_type": "stream",
     "text": [
      "1\n"
     ]
    }
   ],
   "source": [
    "#to pop a specific item  \n",
    "pop = dict_2.pop('one')\n",
    "print(pop)"
   ]
  },
  {
   "cell_type": "code",
   "execution_count": 59,
   "id": "3d95f55c",
   "metadata": {},
   "outputs": [
    {
     "name": "stdout",
     "output_type": "stream",
     "text": [
      "('ten', 10)\n"
     ]
    }
   ],
   "source": [
    "#to pop the last element of the dictionary\n",
    "pop_1 = dict_2.popitem()\n",
    "print(pop_1)"
   ]
  },
  {
   "cell_type": "code",
   "execution_count": 61,
   "id": "2fbce428",
   "metadata": {},
   "outputs": [
    {
     "name": "stdout",
     "output_type": "stream",
     "text": [
      "2\n"
     ]
    }
   ],
   "source": [
    "#to get a particular item\n",
    "get = dict_2.get('two')\n",
    "print(get)"
   ]
  },
  {
   "cell_type": "code",
   "execution_count": 72,
   "id": "23a58438",
   "metadata": {},
   "outputs": [
    {
     "name": "stdout",
     "output_type": "stream",
     "text": [
      "FizzBuzz\n",
      "1\n",
      "2\n",
      "Fizz\n",
      "4\n",
      "Buzz\n",
      "Fizz\n",
      "7\n",
      "8\n",
      "Fizz\n",
      "Buzz\n",
      "11\n",
      "Fizz\n",
      "13\n",
      "14\n",
      "FizzBuzz\n",
      "16\n",
      "17\n",
      "Fizz\n",
      "19\n",
      "Buzz\n",
      "Fizz\n",
      "22\n",
      "23\n",
      "Fizz\n",
      "Buzz\n",
      "26\n",
      "Fizz\n",
      "28\n",
      "29\n",
      "FizzBuzz\n",
      "31\n",
      "32\n",
      "Fizz\n",
      "34\n",
      "Buzz\n",
      "Fizz\n",
      "37\n",
      "38\n",
      "Fizz\n",
      "Buzz\n",
      "41\n",
      "Fizz\n",
      "43\n",
      "44\n",
      "FizzBuzz\n",
      "46\n",
      "47\n",
      "Fizz\n",
      "49\n"
     ]
    }
   ],
   "source": [
    "# a program to print fizzbuzz, fizz or buzz if an iteration over a range of 50 is divisible by 3 and 5, 3 only , 5 only\n",
    "for n in range(0,50):\n",
    "  if (n%3==0) & (n%5==0):\n",
    "    print('FizzBuzz')\n",
    "  elif n%3==0:\n",
    "    print('Fizz')\n",
    "  elif n%5==0:\n",
    "    print('Buzz')\n",
    "  else:\n",
    "    print(n)"
   ]
  },
  {
   "cell_type": "code",
   "execution_count": 82,
   "id": "d9ac5f28",
   "metadata": {},
   "outputs": [
    {
     "name": "stdout",
     "output_type": "stream",
     "text": [
      "Please kindly enter you age:21\n",
      "accepted\n"
     ]
    }
   ],
   "source": [
    "#conditional statement to check age of wedding attendant\n",
    "age = int(input('Please kindly enter you age:'))\n",
    "if (age>=13) & (age<=19):\n",
    "    print('Not accepted')\n",
    "else:\n",
    "    print('accepted')"
   ]
  },
  {
   "cell_type": "code",
   "execution_count": 7,
   "id": "11869ca4",
   "metadata": {},
   "outputs": [
    {
     "name": "stdout",
     "output_type": "stream",
     "text": [
      "Please enter a set of number seperated by a space: 1 2 4 4 5 6\n"
     ]
    },
    {
     "ename": "ValueError",
     "evalue": "invalid literal for int() with base 10: '1 2 4 4 5 6'",
     "output_type": "error",
     "traceback": [
      "\u001b[1;31m---------------------------------------------------------------------------\u001b[0m",
      "\u001b[1;31mValueError\u001b[0m                                Traceback (most recent call last)",
      "Input \u001b[1;32mIn [7]\u001b[0m, in \u001b[0;36m<cell line: 3>\u001b[1;34m()\u001b[0m\n\u001b[0;32m      1\u001b[0m \u001b[38;5;28;01mdef\u001b[39;00m \u001b[38;5;21minput_data\u001b[39m(\u001b[38;5;241m*\u001b[39margs):\n\u001b[0;32m      2\u001b[0m     numbers(args)\n\u001b[1;32m----> 3\u001b[0m input_data \u001b[38;5;241m=\u001b[39m \u001b[38;5;28;43mint\u001b[39;49m\u001b[43m(\u001b[49m\u001b[38;5;28;43minput\u001b[39;49m\u001b[43m(\u001b[49m\u001b[38;5;124;43m'\u001b[39;49m\u001b[38;5;124;43mPlease enter a set of number seperated by a space: \u001b[39;49m\u001b[38;5;124;43m'\u001b[39;49m\u001b[43m)\u001b[49m\u001b[43m)\u001b[49m\n",
      "\u001b[1;31mValueError\u001b[0m: invalid literal for int() with base 10: '1 2 4 4 5 6'"
     ]
    }
   ],
   "source": [
    "# defining a function to enter any number of positional argument\n",
    "def input_data(*args):"
   ]
  },
  {
   "cell_type": "code",
   "execution_count": 10,
   "id": "d850c8d0",
   "metadata": {},
   "outputs": [],
   "source": [
    "# defining a function that adds to number arguments\n",
    "def adding(a,b):\n",
    "    c = a+b\n",
    "    return c\n",
    "\n",
    "print(adding(100,40))"
   ]
  },
  {
   "cell_type": "code",
   "execution_count": 17,
   "id": "17c3136a",
   "metadata": {},
   "outputs": [],
   "source": [
    "# defining a function that says hello world\n",
    "def greatings():\n",
    "    print('hello world')\n",
    "\n",
    "greatings()"
   ]
  },
  {
   "cell_type": "code",
   "execution_count": 22,
   "id": "bfe8d6a9",
   "metadata": {},
   "outputs": [],
   "source": [
    "defining a funtion that print a range of numbers\n",
    "def listrange(a,b):\n",
    "    for i in range(a,b):\n",
    "        print(i)\n",
    "\n",
    "listrange(1,20)"
   ]
  },
  {
   "cell_type": "code",
   "execution_count": 2,
   "id": "a600e83c",
   "metadata": {},
   "outputs": [],
   "source": [
    "# a function that when called print fizzbuss for any number divisible by both 3 & 5, fizz for any number divisible by both 3, buss for any number divisible by both 5 \n",
    "def fizzbuzz(a,b):\n",
    "  for n in range(a,b):\n",
    "    if (n%3==0) & (n%5==0):\n",
    "      print('FizzBuzz')\n",
    "    elif n%3==0:\n",
    "      print('Fizz')\n",
    "    elif n%5==0:\n",
    "      print('Buzz')\n",
    "    else:\n",
    "      print(n)\n",
    "\n",
    "fizzbuzz(1,100)"
   ]
  },
  {
   "cell_type": "code",
   "execution_count": null,
   "id": "f7147bc8",
   "metadata": {},
   "outputs": [],
   "source": [
    "# a program that change an integer into a a string and finds and store the lenght of the string in a variable\n",
    "num = int(input('Enter any positive number : '))\n",
    "stru = str(num)\n",
    "x = len(stru)"
   ]
  }
 ],
 "metadata": {
  "kernelspec": {
   "display_name": "Python 3 (ipykernel)",
   "language": "python",
   "name": "python3"
  },
  "language_info": {
   "codemirror_mode": {
    "name": "ipython",
    "version": 3
   },
   "file_extension": ".py",
   "mimetype": "text/x-python",
   "name": "python",
   "nbconvert_exporter": "python",
   "pygments_lexer": "ipython3",
   "version": "3.10.6"
  }
 },
 "nbformat": 4,
 "nbformat_minor": 5
}
