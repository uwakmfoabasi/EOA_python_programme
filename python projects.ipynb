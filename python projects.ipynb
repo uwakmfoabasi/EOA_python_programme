{
 "cells": [
  {
   "cell_type": "markdown",
   "id": "15a0e3e8",
   "metadata": {},
   "source": [
    "## Program to find if a number is an armsttong number"
   ]
  },
  {
   "cell_type": "code",
   "execution_count": 2,
   "id": "1e3dae61",
   "metadata": {},
   "outputs": [
    {
     "name": "stdout",
     "output_type": "stream",
     "text": [
      "Enter the number : 153\n",
      "153 is an armstrong number\n"
     ]
    }
   ],
   "source": [
    "# function to checks if a number is an armstrong using two for loop and an if statement\n",
    "def armstrg_num():\n",
    "    #to collect input,convert input to strings and store the input inside variables for later operation\n",
    "    num = int(input('Enter the number : '))\n",
    "    stru = str(num)\n",
    "    \n",
    "    #to get total numbers of digit in the value inputed by the user\n",
    "    x = len(stru)\n",
    "    \n",
    "    # create a list to store values for futher summation of the values\n",
    "    lis_sqr= []\n",
    "    \n",
    "    # to seprate each individual digit and store them in a list\n",
    "    for t in stru:\n",
    "        t = int(t)\n",
    "        bal = t**x\n",
    "        lis_sqr.append(bal)\n",
    "    \n",
    "    # to sum up all the values in the list\n",
    "    result = 0\n",
    "    for i in lis_sqr:\n",
    "        result= result + i\n",
    "    \n",
    "    # to decide if the number is an armstrong number or not based on the comparison\n",
    "    # between the result of the operation and the original number entered by the user\n",
    "    if result == num:\n",
    "        print(num,'is an armstrong number')\n",
    "    else:\n",
    "        print(num,'is not an armstrong number')\n",
    "\n",
    "armstrg_num()"
   ]
  },
  {
   "cell_type": "code",
   "execution_count": 4,
   "id": "72eacb4f",
   "metadata": {},
   "outputs": [
    {
     "name": "stdout",
     "output_type": "stream",
     "text": [
      "enter the number: 153\n",
      "the number 153 is an armstrong number\n"
     ]
    }
   ],
   "source": [
    "# a function to check if a number is an armstrong number using a while loop and an if statement\n",
    "def armnum():\n",
    "    # create variables to store the necessary data for later operation\n",
    "    num = int(input('enter the number: '))\n",
    "    temp= num\n",
    "    cnt =0\n",
    "    # to get the total character in a number\n",
    "    while temp > 0:\n",
    "        cnt = cnt+1\n",
    "        temp = temp//10\n",
    "    \n",
    "    # to calculate if the number is an armstrong number\n",
    "    sum_1 = 0\n",
    "    temp= num\n",
    "    while temp>0:\n",
    "        # using modulus operation to get the last digit of the number\n",
    "        rem = temp%10\n",
    "        # sum up the individual digit of the number raised to the total characters in the number\n",
    "        sum_1 = sum_1 + pow(rem,cnt)\n",
    "        temp = temp//10\n",
    "    \n",
    "    # to decide if the number is an armstrong number or not based on the comparison\n",
    "    # between the result of the operation and the original number entered by the user\n",
    "    if (num == sum_1):\n",
    "        print('the number',num,'is an armstrong number')\n",
    "    else:\n",
    "        print('the number',num,'is not an arm strong number')\n",
    "        \n",
    "armnum()"
   ]
  },
  {
   "cell_type": "markdown",
   "id": "ef38574d",
   "metadata": {},
   "source": [
    "## To print the multiplication table in different format"
   ]
  },
  {
   "cell_type": "code",
   "execution_count": 5,
   "id": "035888ce",
   "metadata": {},
   "outputs": [
    {
     "name": "stdout",
     "output_type": "stream",
     "text": [
      "1*1= 1\n",
      "1*2= 2\n",
      "1*3= 3\n",
      "1*4= 4\n",
      "1*5= 5\n",
      "1*6= 6\n",
      "1*7= 7\n",
      "1*8= 8\n",
      "1*9= 9\n",
      "1*10= 10\n",
      "\n",
      "2*1= 2\n",
      "2*2= 4\n",
      "2*3= 6\n",
      "2*4= 8\n",
      "2*5= 10\n",
      "2*6= 12\n",
      "2*7= 14\n",
      "2*8= 16\n",
      "2*9= 18\n",
      "2*10= 20\n",
      "\n",
      "3*1= 3\n",
      "3*2= 6\n",
      "3*3= 9\n",
      "3*4= 12\n",
      "3*5= 15\n",
      "3*6= 18\n",
      "3*7= 21\n",
      "3*8= 24\n",
      "3*9= 27\n",
      "3*10= 30\n",
      "\n",
      "4*1= 4\n",
      "4*2= 8\n",
      "4*3= 12\n",
      "4*4= 16\n",
      "4*5= 20\n",
      "4*6= 24\n",
      "4*7= 28\n",
      "4*8= 32\n",
      "4*9= 36\n",
      "4*10= 40\n",
      "\n",
      "5*1= 5\n",
      "5*2= 10\n",
      "5*3= 15\n",
      "5*4= 20\n",
      "5*5= 25\n",
      "5*6= 30\n",
      "5*7= 35\n",
      "5*8= 40\n",
      "5*9= 45\n",
      "5*10= 50\n",
      "\n",
      "6*1= 6\n",
      "6*2= 12\n",
      "6*3= 18\n",
      "6*4= 24\n",
      "6*5= 30\n",
      "6*6= 36\n",
      "6*7= 42\n",
      "6*8= 48\n",
      "6*9= 54\n",
      "6*10= 60\n",
      "\n",
      "7*1= 7\n",
      "7*2= 14\n",
      "7*3= 21\n",
      "7*4= 28\n",
      "7*5= 35\n",
      "7*6= 42\n",
      "7*7= 49\n",
      "7*8= 56\n",
      "7*9= 63\n",
      "7*10= 70\n",
      "\n",
      "8*1= 8\n",
      "8*2= 16\n",
      "8*3= 24\n",
      "8*4= 32\n",
      "8*5= 40\n",
      "8*6= 48\n",
      "8*7= 56\n",
      "8*8= 64\n",
      "8*9= 72\n",
      "8*10= 80\n",
      "\n",
      "9*1= 9\n",
      "9*2= 18\n",
      "9*3= 27\n",
      "9*4= 36\n",
      "9*5= 45\n",
      "9*6= 54\n",
      "9*7= 63\n",
      "9*8= 72\n",
      "9*9= 81\n",
      "9*10= 90\n",
      "\n",
      "10*1= 10\n",
      "10*2= 20\n",
      "10*3= 30\n",
      "10*4= 40\n",
      "10*5= 50\n",
      "10*6= 60\n",
      "10*7= 70\n",
      "10*8= 80\n",
      "10*9= 90\n",
      "10*10= 100\n",
      "\n"
     ]
    }
   ],
   "source": [
    "# uding for loop and a print statement to create the multiplication table\n",
    "for t in range(1,11):\n",
    "    for i in range(1,11):\n",
    "        print(f\"{t}*{i}=\",t*i)\n",
    "    print()"
   ]
  },
  {
   "cell_type": "code",
   "execution_count": 1,
   "id": "8d0bb4e4",
   "metadata": {},
   "outputs": [
    {
     "name": "stdout",
     "output_type": "stream",
     "text": [
      "[1, 2, 3, 4, 5, 6, 7, 8, 9, 10]\n",
      "[2, 4, 6, 8, 10, 12, 14, 16, 18, 20]\n",
      "[3, 6, 9, 12, 15, 18, 21, 24, 27, 30]\n",
      "[4, 8, 12, 16, 20, 24, 28, 32, 36, 40]\n",
      "[5, 10, 15, 20, 25, 30, 35, 40, 45, 50]\n",
      "[6, 12, 18, 24, 30, 36, 42, 48, 54, 60]\n",
      "[7, 14, 21, 28, 35, 42, 49, 56, 63, 70]\n",
      "[8, 16, 24, 32, 40, 48, 56, 64, 72, 80]\n",
      "[9, 18, 27, 36, 45, 54, 63, 72, 81, 90]\n",
      "[10, 20, 30, 40, 50, 60, 70, 80, 90, 100]\n"
     ]
    }
   ],
   "source": [
    "# using a list,for loop and a print statement statement to write out the multiples of each number in a set of list\n",
    "lip = []\n",
    "for i in range(1,11):\n",
    "    for t in range(1,11):\n",
    "        var = i*t\n",
    "        lip.append(var)\n",
    "    print(str(lip))\n",
    "    lip.clear()\n",
    "    "
   ]
  },
  {
   "cell_type": "code",
   "execution_count": 11,
   "id": "a5eb7489",
   "metadata": {},
   "outputs": [
    {
     "name": "stdout",
     "output_type": "stream",
     "text": [
      "1\t2\t3\t4\t5\t6\t7\t8\t9\t10\t\n",
      "2\t4\t6\t8\t10\t12\t14\t16\t18\t20\t\n",
      "3\t6\t9\t12\t15\t18\t21\t24\t27\t30\t\n",
      "4\t8\t12\t16\t20\t24\t28\t32\t36\t40\t\n",
      "5\t10\t15\t20\t25\t30\t35\t40\t45\t50\t\n",
      "6\t12\t18\t24\t30\t36\t42\t48\t54\t60\t\n",
      "7\t14\t21\t28\t35\t42\t49\t56\t63\t70\t\n",
      "8\t16\t24\t32\t40\t48\t56\t64\t72\t80\t\n",
      "9\t18\t27\t36\t45\t54\t63\t72\t81\t90\t\n",
      "10\t20\t30\t40\t50\t60\t70\t80\t90\t100\t\n"
     ]
    }
   ],
   "source": [
    "# creating a multiplication table from 1 to 10 using a for loop\n",
    "for i in range(1,11):\n",
    "    for u in range(1,11):\n",
    "      print(i*u, end='\\t')\n",
    "    print()\n",
    "    "
   ]
  },
  {
   "cell_type": "code",
   "execution_count": 35,
   "id": "273d9901",
   "metadata": {},
   "outputs": [
    {
     "name": "stdout",
     "output_type": "stream",
     "text": [
      "1*1=1\t1*2=2\t1*3=3\t1*4=4\t1*5=5\t1*6=6\t1*7=7\t1*8=8\t1*9=9\t1*10=10\t\n",
      "2*1=2\t2*2=4\t2*3=6\t2*4=8\t2*5=10\t2*6=12\t2*7=14\t2*8=16\t2*9=18\t2*10=20\t\n",
      "3*1=3\t3*2=6\t3*3=9\t3*4=12\t3*5=15\t3*6=18\t3*7=21\t3*8=24\t3*9=27\t3*10=30\t\n",
      "4*1=4\t4*2=8\t4*3=12\t4*4=16\t4*5=20\t4*6=24\t4*7=28\t4*8=32\t4*9=36\t4*10=40\t\n",
      "5*1=5\t5*2=10\t5*3=15\t5*4=20\t5*5=25\t5*6=30\t5*7=35\t5*8=40\t5*9=45\t5*10=50\t\n",
      "6*1=6\t6*2=12\t6*3=18\t6*4=24\t6*5=30\t6*6=36\t6*7=42\t6*8=48\t6*9=54\t6*10=60\t\n",
      "7*1=7\t7*2=14\t7*3=21\t7*4=28\t7*5=35\t7*6=42\t7*7=49\t7*8=56\t7*9=63\t7*10=70\t\n",
      "8*1=8\t8*2=16\t8*3=24\t8*4=32\t8*5=40\t8*6=48\t8*7=56\t8*8=64\t8*9=72\t8*10=80\t\n",
      "9*1=9\t9*2=18\t9*3=27\t9*4=36\t9*5=45\t9*6=54\t9*7=63\t9*8=72\t9*9=81\t9*10=90\t\n",
      "10*1=10\t10*2=20\t10*3=30\t10*4=40\t10*5=50\t10*6=60\t10*7=70\t10*8=80\t10*9=90\t10*10=100\t\n"
     ]
    }
   ],
   "source": [
    "# creating multiplication table by formating the output\n",
    "for i in range(1,11):\n",
    "    for u in range(1,11):\n",
    "        print(f'{i}*{u}={i*u}' ,end='\\t')\n",
    "    print()"
   ]
  },
  {
   "cell_type": "markdown",
   "id": "0eed0203",
   "metadata": {},
   "source": [
    "## The maximum, minimum, cuberoot and sum of ten digit"
   ]
  },
  {
   "cell_type": "code",
   "execution_count": 14,
   "id": "79e0a41d",
   "metadata": {},
   "outputs": [
    {
     "name": "stdout",
     "output_type": "stream",
     "text": [
      "please enter a number:1\n",
      "please enter a number:2\n",
      "please enter a number:3\n",
      "please enter a number:4\n",
      "please enter a number:5\n",
      "please enter a number:6\n",
      "please enter a number:7\n",
      "please enter a number:8\n",
      "please enter a number:9\n",
      "please enter a number:10\n",
      "The sum of the ten numbers are: 55\n",
      "The average of the numbers is: 5.5\n",
      "The squareroot of the numbers are\n",
      "[1.0, 1.41, 1.73, 2.0, 2.24, 2.45, 2.65, 2.83, 3.0, 3.16]\n",
      "the cuberoot ot the numbers are\n",
      "[1.0, 1.26, 1.44, 1.59, 1.71, 1.82, 1.91, 2.0, 2.08, 2.15]\n"
     ]
    }
   ],
   "source": [
    "# programe to find the sum, min,max,average,squareroot and cuberoot of ten numbers using a for loop\n",
    "sqrtlist =[]\n",
    "cuberootlist = []\n",
    "sum_=0\n",
    "max_=0\n",
    "min_=0\n",
    "for i in range(10):\n",
    "    var = int(input(\"please enter a number:\" ))\n",
    "    sqr = var**(1/2)\n",
    "    cuberoot = var**(1/3)\n",
    "    sum_ = sum_ + var\n",
    "    sqr = round(sqr,2)\n",
    "    cuberoot = round(cuberoot,2)\n",
    "    sqrtlist.append(sqr)\n",
    "    cuberootlist.append(cuberoot)\n",
    "avg = sum_/10\n",
    "\n",
    "# to print the solution of all the operation on the screen\n",
    "print('The sum of the ten numbers are:',sum_)\n",
    "print('The average of the numbers is:',avg)\n",
    "print(\"The squareroot of the numbers are\")\n",
    "print(sqrtlist)\n",
    "print('the cuberoot ot the numbers are')\n",
    "print(cuberootlist)"
   ]
  },
  {
   "cell_type": "code",
   "execution_count": 16,
   "id": "bdfbdaaa",
   "metadata": {},
   "outputs": [
    {
     "name": "stdout",
     "output_type": "stream",
     "text": [
      "Enter a number: 1\n",
      "Enter a number: 2\n",
      "Enter a number: 3\n",
      "Enter a number: 4\n",
      "Enter a number: 5\n",
      "Enter a number: 6\n",
      "Enter a number: 7\n",
      "Enter a number: 8\n",
      "Enter a number: 9\n",
      "Enter a number: 10\n",
      "\n",
      "The squareroot of 1.0 is: 1.00\n",
      "The cuberoot of 1.0 is: 1.00\n",
      "\n",
      "The squareroot of 2.0 is: 1.41\n",
      "The cuberoot of 2.0 is: 1.26\n",
      "\n",
      "The squareroot of 3.0 is: 1.73\n",
      "The cuberoot of 3.0 is: 1.44\n",
      "\n",
      "The squareroot of 4.0 is: 2.00\n",
      "The cuberoot of 4.0 is: 1.59\n",
      "\n",
      "The squareroot of 5.0 is: 2.24\n",
      "The cuberoot of 5.0 is: 1.71\n",
      "\n",
      "The squareroot of 6.0 is: 2.45\n",
      "The cuberoot of 6.0 is: 1.82\n",
      "\n",
      "The squareroot of 7.0 is: 2.65\n",
      "The cuberoot of 7.0 is: 1.91\n",
      "\n",
      "The squareroot of 8.0 is: 2.83\n",
      "The cuberoot of 8.0 is: 2.00\n",
      "\n",
      "The squareroot of 9.0 is: 3.00\n",
      "The cuberoot of 9.0 is: 2.08\n",
      "\n",
      "The squareroot of 10.0 is: 3.16\n",
      "The cuberoot of 10.0 is: 2.15\n",
      "\n",
      "The sum of all the numbers is: 55.0\n",
      "The average of the numbers is: 5.5\n",
      "The maximum number is:  10.0\n",
      "The minimum number is:  1.0\n"
     ]
    }
   ],
   "source": [
    "# program to find the sum,average,maximum number,minimum number,squareroot and cuberoot of ten numbers\n",
    "# create a list to store input and process the input in an array\n",
    "numbers = []\n",
    "\n",
    "# to collect input from the user,convert to float and store it in a list using a for loop\n",
    "for i in range(10):\n",
    "    x = float(input('Enter a number: '))\n",
    "    numbers.append(x)\n",
    "print()\n",
    "\n",
    "# to compute the squareroot and cuberoot of the items in the list using a for loop\n",
    "for i in numbers:\n",
    "    sqr = i**(1/2)\n",
    "    cube= i**(1/3)\n",
    "    print(f'The squareroot of {i} is: {sqr:.2f}')\n",
    "    print(f'The cuberoot of {i} is: {cube:.2f}')\n",
    "    print()\n",
    "    \n",
    "# to print the and format output\n",
    "print(\"The sum of all the numbers is:\",sum(numbers))\n",
    "print(\"The average of the numbers is:\",sum(numbers)/len(numbers))\n",
    "print('The maximum number is: ',max(numbers))\n",
    "print('The minimum number is: ',min(numbers))"
   ]
  },
  {
   "cell_type": "code",
   "execution_count": 38,
   "id": "2c822155",
   "metadata": {},
   "outputs": [
    {
     "name": "stdout",
     "output_type": "stream",
     "text": [
      "Enter a number: 100\n",
      "Enter a number: 81\n",
      "Enter a number: 64\n",
      "Enter a number: 49\n",
      "Enter a number: 36\n",
      "Enter a number: 25\n",
      "Enter a number: 16\n",
      "Enter a number: 9\n",
      "Enter a number: 4\n",
      "Enter a number: 1\n",
      "\n",
      "The squareroot of 100.00 is: 10.00 | \t The cuberoot of 100.00 is: 10.00\n",
      "\n",
      "The squareroot of 81.00 is: 9.00 | \t The cuberoot of 81.00 is: 9.00\n",
      "\n",
      "The squareroot of 64.00 is: 8.00 | \t The cuberoot of 64.00 is: 8.00\n",
      "\n",
      "The squareroot of 49.00 is: 7.00 | \t The cuberoot of 49.00 is: 7.00\n",
      "\n",
      "The squareroot of 36.00 is: 6.00 | \t The cuberoot of 36.00 is: 6.00\n",
      "\n",
      "The squareroot of 25.00 is: 5.00 | \t The cuberoot of 25.00 is: 5.00\n",
      "\n",
      "The squareroot of 16.00 is: 4.00 | \t The cuberoot of 16.00 is: 4.00\n",
      "\n",
      "The squareroot of 9.00 is: 3.00 | \t The cuberoot of 9.00 is: 3.00\n",
      "\n",
      "The squareroot of 4.00 is: 2.00 | \t The cuberoot of 4.00 is: 2.00\n",
      "\n",
      "The squareroot of 1.00 is: 1.00 | \t The cuberoot of 1.00 is: 1.00\n",
      "\n",
      "The sum of all the numbers is: 385.0\n",
      "The average of the numbers is: 38.5\n",
      "The maximum number is:  100.0\n",
      "The minimum number is:  1.0\n"
     ]
    }
   ],
   "source": [
    "# program to find the sum,average,maximum number,minimum number,squareroot and cuberoot of ten numbers\n",
    "# create a list to store input and process the input in an array\n",
    "numbers = []\n",
    "\n",
    "# to collect input from the user,convert to float and store it in a list using a for loop\n",
    "for i in range(10):\n",
    "    x = float(input('Enter a number: '))\n",
    "    numbers.append(x)\n",
    "print()\n",
    "\n",
    "# to compute the squareroot and cuberoot of the items in the list using a for loop\n",
    "for i in numbers:\n",
    "    sqr = i**(1/2)\n",
    "    cube= i**(1/3)\n",
    "    print('The squareroot of %1.2f is: %1.2f |'%(i,sqr),'\\t','The cuberoot of %1.2f is: %1.2f'%(i,sqr))\n",
    "    print()\n",
    "    \n",
    "# to print the and format output\n",
    "print(\"The sum of all the numbers is:\",sum(numbers))\n",
    "print(\"The average of the numbers is:\",sum(numbers)/len(numbers))\n",
    "print('The maximum number is: ',max(numbers))\n",
    "print('The minimum number is: ',min(numbers))"
   ]
  },
  {
   "cell_type": "markdown",
   "id": "be88662b",
   "metadata": {},
   "source": [
    "## program to create a function that returns a global variable"
   ]
  },
  {
   "cell_type": "code",
   "execution_count": 41,
   "id": "1e1f4468",
   "metadata": {},
   "outputs": [],
   "source": [
    "pi = 3.142\n",
    "def input_collector():\n",
    "       coll = input(\"please enter a word:\")\n",
    "       return pi \n",
    "\n",
    "input_collector()"
   ]
  },
  {
   "cell_type": "markdown",
   "id": "198d9ce7",
   "metadata": {},
   "source": [
    "## This program get the size and quantity of containers from the user and returns the cash paid for each bulk of containers"
   ]
  },
  {
   "cell_type": "code",
   "execution_count": 10,
   "id": "5177e26a",
   "metadata": {},
   "outputs": [],
   "source": [
    "def deposit_per_container():    \n",
    "    volume = float(input('Enter the volume of the container in liter: '))\n",
    "    amount = float(input('Enter the number of containers to be recycle: '))\n",
    "    deposit_1 = 0.10\n",
    "    deposit_2 = 0.25\n",
    "    if volume <= 1:\n",
    "        answer = deposit_1*volume*amount\n",
    "        print('$%1.2f refund for %1.2f containers with %1.2f volume'%(answer,amount,volume))\n",
    "    elif volume > 1:\n",
    "        answer = deposit_2*volume*amount\n",
    "        print('$%1.2f refund for %1.2f containers with %1.2f volume'%(answer,amount,volume))"
   ]
  },
  {
   "cell_type": "code",
   "execution_count": null,
   "id": "74cd5ed5",
   "metadata": {},
   "outputs": [],
   "source": []
  },
  {
   "cell_type": "markdown",
   "id": "fc877afd",
   "metadata": {},
   "source": [
    "## This program removes the kg from the items in the list and input them in a separate list"
   ]
  },
  {
   "cell_type": "code",
   "execution_count": 8,
   "id": "2a63c9d1",
   "metadata": {},
   "outputs": [
    {
     "name": "stdout",
     "output_type": "stream",
     "text": [
      "[1, 2, 3, 4]\n"
     ]
    }
   ],
   "source": [
    "weight  = ['1kg','2kg','3kg','4kg']\n",
    "weight_in_number = []\n",
    "num = len(weight)\n",
    "for i in weight:\n",
    "    var = i\n",
    "    stro = var[0]\n",
    "    stro = int(stro)\n",
    "    weight_in_number.append(stro)\n",
    "print(weight_in_number)"
   ]
  }
 ],
 "metadata": {
  "kernelspec": {
   "display_name": "Python 3 (ipykernel)",
   "language": "python",
   "name": "python3"
  },
  "language_info": {
   "codemirror_mode": {
    "name": "ipython",
    "version": 3
   },
   "file_extension": ".py",
   "mimetype": "text/x-python",
   "name": "python",
   "nbconvert_exporter": "python",
   "pygments_lexer": "ipython3",
   "version": "3.10.6"
  }
 },
 "nbformat": 4,
 "nbformat_minor": 5
}
