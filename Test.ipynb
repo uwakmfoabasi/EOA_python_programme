{
 "cells": [
  {
   "cell_type": "code",
   "execution_count": 32,
   "id": "861da2f7",
   "metadata": {},
   "outputs": [],
   "source": [
    "class name:\n",
    "    def __init__(self):\n",
    "        x = [0]\n",
    "        y = [0]\n",
    "        while x[-1]!=\"\":\n",
    "            val_1 = input(\"Enter the x-co-ordinate: \")\n",
    "            val_2 = input(\"Enter the y-co-ordinate: \")\n",
    "            x.append(val_1)\n",
    "            y.append(val_2)\n",
    "        x = [float(i) for i in x[1:-1]]\n",
    "        y = [float(i) for i in y[1:-1]]\n",
    "        self.x = x\n",
    "        self.y = y\n",
    "        \n",
    "    def sum_xy(self):\n",
    "        sum_xy=0\n",
    "        for i in range(len(self.x)):\n",
    "            sum_xy += self.x[i] * self.y[i]\n",
    "        return sum_xy\n",
    "        \n",
    "    def sum_x(self):\n",
    "        sum_x=0\n",
    "        for i in self.x:\n",
    "            sum_x+=i\n",
    "        return sum_x\n",
    "        \n",
    "    def sum_y(self):\n",
    "        sum_y=0\n",
    "        for i in self.y:\n",
    "            sum_y+=i\n",
    "        return sum_y\n",
    "        \n",
    "    def sum_x2(self):\n",
    "        sum_x2= self.sum_x() **2\n",
    "        return sum_x2\n",
    "        \n",
    "    def sum_xx(self):\n",
    "        sum_xx = 0\n",
    "        for i in self.x:\n",
    "            sum_xx+=i**2\n",
    "        return sum_xx\n",
    "        \n",
    "    def rhs_1(self):\n",
    "        rhs_1= (self.sum_x()*self.sum_y())/len(self.x)\n",
    "        return rhs_1\n",
    "    \n",
    "    def numerator(self):\n",
    "        numerator = self.sum_xy()-self.rhs_1()\n",
    "        return numerator\n",
    "    \n",
    "    def rhs_2(self):\n",
    "        rhs_2= self.sum_x2() / len(self.x)\n",
    "        return rhs_2\n",
    "    \n",
    "    def denominator(self):\n",
    "        denominator = self.sum_xx()-self.rhs_2()\n",
    "        return denominator\n",
    "    \n",
    "    def slope(self):\n",
    "        m = self.numerator()/self.denominator()\n",
    "        return m\n",
    "    \n",
    "    def min_x(self):\n",
    "        min_x = self.sum_x()/len(self.x)\n",
    "        return min_x\n",
    "    \n",
    "    def min_y(self):\n",
    "        min_y = self.sum_y()/len(self.y)\n",
    "        return min_y\n",
    "    \n",
    "    def intercerpt(self):\n",
    "        b = self.min_y()-(self.slope()*self.min_x())\n",
    "        return b\n",
    "    \n",
    "    def formula(self):\n",
    "        print(f'The line of best fit is y = {self.slope():.2f}x + {self.intercerpt():.1f}')"
   ]
  },
  {
   "cell_type": "code",
   "execution_count": 33,
   "id": "e8f8c78f",
   "metadata": {},
   "outputs": [
    {
     "name": "stdout",
     "output_type": "stream",
     "text": [
      "Enter the x-co-ordinate: 1\n",
      "Enter the y-co-ordinate: 2\n",
      "Enter the x-co-ordinate: 3\n",
      "Enter the y-co-ordinate: 4\n",
      "Enter the x-co-ordinate: 1\n",
      "Enter the y-co-ordinate: 2\n",
      "Enter the x-co-ordinate: 2\n",
      "Enter the y-co-ordinate: 3\n",
      "Enter the x-co-ordinate: \n",
      "Enter the y-co-ordinate: \n",
      "The line of best fit is y = 1.00x + 1.0\n"
     ]
    }
   ],
   "source": [
    "obj = name()\n",
    "obj.formula()"
   ]
  }
 ],
 "metadata": {
  "kernelspec": {
   "display_name": "Python 3 (ipykernel)",
   "language": "python",
   "name": "python3"
  },
  "language_info": {
   "codemirror_mode": {
    "name": "ipython",
    "version": 3
   },
   "file_extension": ".py",
   "mimetype": "text/x-python",
   "name": "python",
   "nbconvert_exporter": "python",
   "pygments_lexer": "ipython3",
   "version": "3.10.6"
  }
 },
 "nbformat": 4,
 "nbformat_minor": 5
}
