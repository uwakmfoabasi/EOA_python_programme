{
 "cells": [
  {
   "cell_type": "code",
   "execution_count": 3,
   "id": "a2388c39",
   "metadata": {},
   "outputs": [
    {
     "name": "stdout",
     "output_type": "stream",
     "text": [
      "{'one': 1, 'two': 2, 'three': 3}\n"
     ]
    }
   ],
   "source": [
    "# dictionary operations on keys and values\n",
    "dict_1={'one':1,'two':2}\n",
    "new_key=input('enter the key: ')\n",
    "new_val=int(input('enter the value: '))\n",
    "dict_1[new_key]=new_val\n",
    "\n",
    "print(dict_1)"
   ]
  },
  {
   "cell_type": "code",
   "execution_count": 4,
   "id": "a0af7956",
   "metadata": {},
   "outputs": [
    {
     "name": "stdout",
     "output_type": "stream",
     "text": [
      "enter the key: four\n",
      "enter the value: 4\n",
      "enter the key: five\n",
      "enter the value: 5\n",
      "enter the key: six\n",
      "enter the value: 6\n",
      "enter the key: seven\n",
      "enter the value: 7\n",
      "enter the key: eight\n",
      "enter the value: 8\n",
      "{'one': 1, 'two': 2, 'three': 3, 'four': 4, 'five': 5, 'six': 6, 'seven': 7, 'eight': 8}\n"
     ]
    }
   ],
   "source": [
    "# a for loop to add five new key value pair to the dictionary\n",
    "for i in range(5):\n",
    "    new_key=input('enter the key: ')\n",
    "    new_val=int(input('enter the value: '))\n",
    "    dict_1[new_key]=new_val\n",
    "print(dict_1)    "
   ]
  },
  {
   "cell_type": "code",
   "execution_count": 13,
   "id": "4eaaa1a7",
   "metadata": {
    "scrolled": true
   },
   "outputs": [
    {
     "name": "stdout",
     "output_type": "stream",
     "text": [
      "[1, 4, 9, 16, 25, 36, 49]\n"
     ]
    }
   ],
   "source": [
    "# a program to square the items in a list using a for loop\n",
    "joke_1=[1,2,3,4,5,6,7]\n",
    "joke_2=[]\n",
    "for i in joke_1:\n",
    "    i_1=i**2\n",
    "    joke_2.append(i_1)\n",
    "print(joke_2)"
   ]
  },
  {
   "cell_type": "code",
   "execution_count": 2,
   "id": "8b1eed86",
   "metadata": {},
   "outputs": [
    {
     "name": "stdout",
     "output_type": "stream",
     "text": [
      "hello world\n"
     ]
    }
   ],
   "source": [
    "# a program to allow entrance to a place if the individual meet a paticular age requirement\n",
    "age = int(input('Please enter your age; '))\n",
    "if age<13 or age>19:\n",
    "    print('you cannot enter')\n",
    "else:\n",
    "    print('you can enter')\n",
    "\n",
    "print('hello world')"
   ]
  }
 ],
 "metadata": {
  "kernelspec": {
   "display_name": "Python 3 (ipykernel)",
   "language": "python",
   "name": "python3"
  },
  "language_info": {
   "codemirror_mode": {
    "name": "ipython",
    "version": 3
   },
   "file_extension": ".py",
   "mimetype": "text/x-python",
   "name": "python",
   "nbconvert_exporter": "python",
   "pygments_lexer": "ipython3",
   "version": "3.10.6"
  }
 },
 "nbformat": 4,
 "nbformat_minor": 5
}
