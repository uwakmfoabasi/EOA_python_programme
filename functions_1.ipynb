{
 "cells": [
  {
   "cell_type": "markdown",
   "id": "a22087f6",
   "metadata": {},
   "source": [
    "# Note"
   ]
  },
  {
   "cell_type": "code",
   "execution_count": 1,
   "id": "fd02655d",
   "metadata": {},
   "outputs": [],
   "source": [
    "def add(x,y):\n",
    "    z = x+y\n",
    "    return z"
   ]
  },
  {
   "cell_type": "code",
   "execution_count": 2,
   "id": "d1232dd0",
   "metadata": {},
   "outputs": [],
   "source": [
    "def even(x):\n",
    "    for i in range(x):\n",
    "        if i%2 ==0:\n",
    "            print(i)"
   ]
  },
  {
   "cell_type": "code",
   "execution_count": 3,
   "id": "dd338952",
   "metadata": {},
   "outputs": [
    {
     "name": "stdout",
     "output_type": "stream",
     "text": [
      "0\n",
      "2\n",
      "4\n",
      "6\n"
     ]
    }
   ],
   "source": [
    "even(add(2,5))"
   ]
  },
  {
   "cell_type": "code",
   "execution_count": 4,
   "id": "fd855332",
   "metadata": {},
   "outputs": [],
   "source": [
    "def exp():\n",
    "    x = int(input('Enter the value: '))\n",
    "    y = int(input('Enter the exponential: '))\n",
    "    z = x**y\n",
    "    return z"
   ]
  },
  {
   "cell_type": "code",
   "execution_count": 5,
   "id": "7ec92f7f",
   "metadata": {},
   "outputs": [
    {
     "name": "stdout",
     "output_type": "stream",
     "text": [
      "Enter the value: 4\n",
      "Enter the exponential: 2\n"
     ]
    },
    {
     "data": {
      "text/plain": [
       "16"
      ]
     },
     "execution_count": 5,
     "metadata": {},
     "output_type": "execute_result"
    }
   ],
   "source": [
    "exp()"
   ]
  },
  {
   "cell_type": "code",
   "execution_count": 6,
   "id": "b200fd2b",
   "metadata": {},
   "outputs": [],
   "source": [
    "def age(age):\n",
    "    if age:\n",
    "        print('NOt accepted')\n",
    "    elif age>5:\n",
    "        grant = false"
   ]
  },
  {
   "cell_type": "code",
   "execution_count": 8,
   "id": "c76e1937",
   "metadata": {},
   "outputs": [
    {
     "name": "stdout",
     "output_type": "stream",
     "text": [
      "NOt accepted\n"
     ]
    }
   ],
   "source": [
    "age(16)"
   ]
  },
  {
   "cell_type": "code",
   "execution_count": 16,
   "id": "2ebec463",
   "metadata": {},
   "outputs": [],
   "source": [
    "def iterat(x):\n",
    "    count = 0\n",
    "    for i in range(x):\n",
    "        count+=1\n",
    "        print(f'You number is: {count}')\n",
    "        name = input('Enter your name: ')\n",
    "        print()"
   ]
  },
  {
   "cell_type": "code",
   "execution_count": null,
   "id": "ed1e0da1",
   "metadata": {},
   "outputs": [],
   "source": [
    "def iter(x):\n",
    "    for i in range(x):\n",
    "        name = input('Enter your name')\n",
    "        print(f'you are the {i} that has entered his name')"
   ]
  },
  {
   "cell_type": "code",
   "execution_count": 17,
   "id": "b7579ef4",
   "metadata": {},
   "outputs": [
    {
     "name": "stdout",
     "output_type": "stream",
     "text": [
      "You number is: 1\n",
      "Enter your name: rob\n",
      "\n",
      "You number is: 2\n",
      "Enter your name: def\n",
      "\n",
      "You number is: 3\n",
      "Enter your name: def\n",
      "\n",
      "You number is: 4\n",
      "Enter your name: def\n",
      "\n",
      "You number is: 5\n",
      "Enter your name: def\n",
      "\n"
     ]
    }
   ],
   "source": [
    "iterat(5)"
   ]
  },
  {
   "cell_type": "code",
   "execution_count": 3,
   "id": "47baf9ba",
   "metadata": {},
   "outputs": [
    {
     "name": "stdout",
     "output_type": "stream",
     "text": [
      "Your s/n is: 1\n",
      "Enter your name: dd\n",
      "\n",
      "Your s/n is: 2\n",
      "Enter your name: de\n",
      "\n",
      "Your s/n is: 3\n",
      "Enter your name: dr\n",
      "\n",
      "Your s/n is: 4\n",
      "Enter your name: dt\n",
      "\n",
      "Your s/n is: 5\n",
      "Enter your name: dy\n",
      "\n",
      "Your s/n is: 6\n",
      "Enter your name: du\n",
      "\n",
      "Your s/n is: 7\n",
      "Enter your name: di\n",
      "\n",
      "Your s/n is: 8\n",
      "Enter your name: df\n",
      "\n",
      "Your s/n is: 9\n",
      "Enter your name: dg\n",
      "\n",
      "Your s/n is: 10\n",
      "Enter your name: ds\n",
      "\n",
      "{1: 'dd', 2: 'de', 3: 'dr', 4: 'dt', 5: 'dy', 6: 'du', 7: 'di', 8: 'df', 9: 'dg', 10: 'ds'}\n"
     ]
    }
   ],
   "source": [
    "dic_1 = {}\n",
    "count = 0\n",
    "for i in range(10):\n",
    "    count = count +1\n",
    "    print(f'Your s/n is: {count}')\n",
    "    name = input('Enter your name: ')\n",
    "    print()\n",
    "    dic_1[count] = name\n",
    "print(dic_1)"
   ]
  },
  {
   "cell_type": "code",
   "execution_count": 5,
   "id": "54abea6c",
   "metadata": {},
   "outputs": [],
   "source": [
    "a = lambda x,y:x+y"
   ]
  },
  {
   "cell_type": "code",
   "execution_count": 6,
   "id": "ac308dbe",
   "metadata": {},
   "outputs": [
    {
     "data": {
      "text/plain": [
       "8"
      ]
     },
     "execution_count": 6,
     "metadata": {},
     "output_type": "execute_result"
    }
   ],
   "source": [
    "a(3,5)"
   ]
  },
  {
   "cell_type": "code",
   "execution_count": null,
   "id": "af7116df",
   "metadata": {},
   "outputs": [],
   "source": []
  }
 ],
 "metadata": {
  "kernelspec": {
   "display_name": "Python 3 (ipykernel)",
   "language": "python",
   "name": "python3"
  },
  "language_info": {
   "codemirror_mode": {
    "name": "ipython",
    "version": 3
   },
   "file_extension": ".py",
   "mimetype": "text/x-python",
   "name": "python",
   "nbconvert_exporter": "python",
   "pygments_lexer": "ipython3",
   "version": "3.10.6"
  }
 },
 "nbformat": 4,
 "nbformat_minor": 5
}
