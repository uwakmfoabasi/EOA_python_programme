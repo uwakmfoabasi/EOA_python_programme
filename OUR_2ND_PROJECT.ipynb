{
 "cells": [
  {
   "cell_type": "markdown",
   "id": "e87156f6",
   "metadata": {},
   "source": [
    " # OUR SECOND PROJECT"
   ]
  },
  {
   "cell_type": "code",
   "execution_count": null,
   "id": "9cef5344",
   "metadata": {},
   "outputs": [],
   "source": [
    "print(\"hello world!\")"
   ]
  },
  {
   "cell_type": "markdown",
   "id": "55273520",
   "metadata": {},
   "source": [
    "### division of integer"
   ]
  },
  {
   "cell_type": "code",
   "execution_count": null,
   "id": "cb7c3950",
   "metadata": {},
   "outputs": [],
   "source": [
    "##### first_number=8\n",
    "second_number=int(input('the dividend is'))\n",
    "result=first_number/second_number\n",
    "print('the quotient:',result)"
   ]
  },
  {
   "cell_type": "markdown",
   "id": "e1ebc350",
   "metadata": {},
   "source": [
    "### addition of floats"
   ]
  },
  {
   "cell_type": "code",
   "execution_count": null,
   "id": "202a4239",
   "metadata": {},
   "outputs": [],
   "source": [
    "first_number=45.8\n",
    "second_number=int(input('the missing number is'))\n",
    "result=first_number+second_number\n",
    "print('the sum is:',result)\n"
   ]
  },
  {
   "cell_type": "markdown",
   "id": "ee53ffce",
   "metadata": {},
   "source": [
    "### subtraction of float from integer"
   ]
  },
  {
   "cell_type": "code",
   "execution_count": null,
   "id": "5e427057",
   "metadata": {},
   "outputs": [],
   "source": [
    "first_number=56\n",
    "second_number=float ( input('the second number is'))\n",
    "result=first_number-second_number\n",
    "print('the difference is:',result)\n"
   ]
  },
  {
   "cell_type": "markdown",
   "id": "d06e6280",
   "metadata": {},
   "source": [
    "### area of a cone( pi*radius cube*slant height)"
   ]
  },
  {
   "cell_type": "code",
   "execution_count": null,
   "id": "b03b169c",
   "metadata": {},
   "outputs": [],
   "source": [
    "pi=3.14\n",
    "radius=int(input('the radius is'))\n",
    "slant_height=5.6\n",
    "result=pi*radius*slant_height\n",
    "print('the area of cone is:',result)\n"
   ]
  },
  {
   "cell_type": "markdown",
   "id": "d37ffafb",
   "metadata": {},
   "source": [
    "### area of a rectangle"
   ]
  },
  {
   "cell_type": "code",
   "execution_count": null,
   "id": "e6c7414f",
   "metadata": {},
   "outputs": [],
   "source": [
    "pi=3.14\n",
    "radius=3**3\n",
    "slant_height=int(input ('the height is'))\n",
    "result=pi*radius*slant_height\n",
    "print('the area of cone is:',result)\n"
   ]
  },
  {
   "cell_type": "code",
   "execution_count": null,
   "id": "f4e67cb2",
   "metadata": {},
   "outputs": [],
   "source": [
    "pi=3.14\n",
    "radius=3**3\n",
    "slant_height= float(input('the height is'))\n",
    "result=pi*radius*slant_height\n",
    "print('the area of cone is:',result)\n"
   ]
  },
  {
   "cell_type": "markdown",
   "id": "47da8bc4",
   "metadata": {},
   "source": [
    "# list"
   ]
  },
  {
   "cell_type": "code",
   "execution_count": null,
   "id": "b2448417",
   "metadata": {},
   "outputs": [],
   "source": [
    "#creating a list\n",
    "list_1 =['b','r','i','g','h','t']"
   ]
  },
  {
   "cell_type": "code",
   "execution_count": null,
   "id": "1575aa13",
   "metadata": {},
   "outputs": [],
   "source": [
    "a= 'bright'\n",
    "list_2 =[a]\n",
    "#printing out the values of your\n",
    "print(list_1)"
   ]
  },
  {
   "cell_type": "markdown",
   "id": "c5cab3d2",
   "metadata": {},
   "source": [
    "# list operations\n",
    "- indexing,slicing operation:a way to refer the individual terms within an iterable by its position\n",
    "- insert(): add items to a list in a specific position\n",
    "- remove():removes the first occurence of the element with the specified value\n",
    "- append(); it is a pre-defined method used to add a single item to certain collection types\n",
    "- sort():arranging data in a particular order\n",
    "- index():refer to a position within an ordered list\n",
    "- min(), max()\n",
    "- pop()\n",
    "- clear()"
   ]
  },
  {
   "cell_type": "code",
   "execution_count": null,
   "id": "9c8a72c1",
   "metadata": {},
   "outputs": [],
   "source": [
    "#Creating a list\n",
    "list_2 = [1,4,2,5,7,4,0,9,8]"
   ]
  },
  {
   "cell_type": "code",
   "execution_count": null,
   "id": "06dd81d2",
   "metadata": {},
   "outputs": [],
   "source": [
    "q2a##len is used in getting the exact length of the above given list\n",
    "len(list_2)"
   ]
  },
  {
   "cell_type": "code",
   "execution_count": null,
   "id": "59986bac",
   "metadata": {},
   "outputs": [],
   "source": [
    "####list indexing/slicing operations"
   ]
  },
  {
   "cell_type": "code",
   "execution_count": null,
   "id": "c0ed89b1",
   "metadata": {},
   "outputs": [],
   "source": [
    "#1st element\n",
    "list_2[0]"
   ]
  },
  {
   "cell_type": "code",
   "execution_count": null,
   "id": "21f86b8a",
   "metadata": {},
   "outputs": [],
   "source": [
    "list_2[1]"
   ]
  },
  {
   "cell_type": "code",
   "execution_count": null,
   "id": "f9973de6",
   "metadata": {},
   "outputs": [],
   "source": [
    "list_2[-1]"
   ]
  },
  {
   "cell_type": "code",
   "execution_count": null,
   "id": "dbc746da",
   "metadata": {},
   "outputs": [],
   "source": [
    "list_2[-8]"
   ]
  },
  {
   "cell_type": "code",
   "execution_count": null,
   "id": "899d39ff",
   "metadata": {},
   "outputs": [],
   "source": [
    "list_2[2:4]"
   ]
  },
  {
   "cell_type": "code",
   "execution_count": null,
   "id": "f091364f",
   "metadata": {},
   "outputs": [],
   "source": [
    "list_2[2:5]"
   ]
  },
  {
   "cell_type": "markdown",
   "id": "2271f541",
   "metadata": {},
   "source": [
    "insert is used to add an element to the list"
   ]
  },
  {
   "cell_type": "code",
   "execution_count": null,
   "id": "a0e5a0ec",
   "metadata": {},
   "outputs": [],
   "source": [
    "#in this case insert is used to add 2 and 6\n",
    "list_2.insert(2,6)\n",
    "print(list_2)"
   ]
  },
  {
   "cell_type": "code",
   "execution_count": null,
   "id": "f846df8a",
   "metadata": {},
   "outputs": [],
   "source": [
    "#remove is used to abolish 4 from the list\n",
    "list_2.remove(4)"
   ]
  },
  {
   "cell_type": "code",
   "execution_count": null,
   "id": "66139ae0",
   "metadata": {},
   "outputs": [],
   "source": [
    "#this is calling list 2 to find out if the recent activity  has been performed\n",
    "list_2"
   ]
  },
  {
   "cell_type": "code",
   "execution_count": null,
   "id": "c5e86cb8",
   "metadata": {},
   "outputs": [],
   "source": [
    "#append is used to add a single element to a list\n",
    "list_2.append(25)"
   ]
  },
  {
   "cell_type": "code",
   "execution_count": null,
   "id": "d343456f",
   "metadata": {},
   "outputs": [],
   "source": [
    "list_2"
   ]
  },
  {
   "cell_type": "code",
   "execution_count": null,
   "id": "3e7943bd",
   "metadata": {},
   "outputs": [],
   "source": [
    "#sort is used to arrange data in a particular order\n",
    "list_2.sort()"
   ]
  },
  {
   "cell_type": "code",
   "execution_count": null,
   "id": "c87bd7ed",
   "metadata": {},
   "outputs": [],
   "source": [
    "list_2"
   ]
  },
  {
   "cell_type": "code",
   "execution_count": null,
   "id": "0f2fd426",
   "metadata": {},
   "outputs": [],
   "source": [
    "#it is used to refer to a position in a list\n",
    "list_2.index(4)"
   ]
  },
  {
   "cell_type": "code",
   "execution_count": null,
   "id": "14d79e57",
   "metadata": {},
   "outputs": [],
   "source": [
    "#it is used to identify the lowest value\n",
    "min(list_2)"
   ]
  },
  {
   "cell_type": "code",
   "execution_count": null,
   "id": "36e5aa8b",
   "metadata": {},
   "outputs": [],
   "source": [
    "#it is used to identify the highest value\n",
    "max(list_2)"
   ]
  },
  {
   "cell_type": "code",
   "execution_count": null,
   "id": "a984fab3",
   "metadata": {},
   "outputs": [],
   "source": [
    "#it removes an item from a specific index\n",
    "\n",
    "list_2.pop(3)"
   ]
  },
  {
   "cell_type": "code",
   "execution_count": null,
   "id": "557c6b8f",
   "metadata": {},
   "outputs": [],
   "source": [
    "#it is used to remove all items on a list\n",
    "list_2.clear()"
   ]
  },
  {
   "cell_type": "code",
   "execution_count": null,
   "id": "f5ea5664",
   "metadata": {},
   "outputs": [],
   "source": [
    "\n",
    "list_2"
   ]
  },
  {
   "cell_type": "code",
   "execution_count": null,
   "id": "48cd5ceb",
   "metadata": {},
   "outputs": [],
   "source": [
    "#creating a new list\n",
    "list_3=[1,2,3,4,5,6,7,8]"
   ]
  },
  {
   "cell_type": "code",
   "execution_count": null,
   "id": "3caf1747",
   "metadata": {},
   "outputs": [],
   "source": [
    "#extend can be used to join two lists together\n",
    "list_2.extend(list_3)"
   ]
  },
  {
   "cell_type": "code",
   "execution_count": null,
   "id": "bd306fa1",
   "metadata": {},
   "outputs": [],
   "source": [
    "#printing the outcome\n",
    "print('list after extend():',list_2)"
   ]
  },
  {
   "cell_type": "code",
   "execution_count": null,
   "id": "cbf549e8",
   "metadata": {},
   "outputs": [],
   "source": [
    "l_4 = [1,2,3,4,5,6,7,8]"
   ]
  },
  {
   "cell_type": "code",
   "execution_count": null,
   "id": "d79e8767",
   "metadata": {},
   "outputs": [],
   "source": [
    "\n",
    "max(l_4)"
   ]
  },
  {
   "cell_type": "code",
   "execution_count": null,
   "id": "38406e72",
   "metadata": {},
   "outputs": [],
   "source": [
    "#differences between set, tuple,and list.\n",
    "l_5=[2,2]\n",
    "l_6=(2,2)\n",
    "l_7={2,2}"
   ]
  },
  {
   "cell_type": "code",
   "execution_count": null,
   "id": "e9229f15",
   "metadata": {},
   "outputs": [],
   "source": [
    "print(l_5,l_6,l_7)"
   ]
  },
  {
   "cell_type": "code",
   "execution_count": null,
   "id": "b4322bec",
   "metadata": {},
   "outputs": [],
   "source": [
    "##DEALING WITH SET\n",
    "#creating a set\n",
    "set_1={'ayo','ola','seun','ayo'}\n",
    "set_1.add('nife')\n",
    "print(set_1)\n"
   ]
  },
  {
   "cell_type": "markdown",
   "id": "ae148648",
   "metadata": {},
   "source": [
    "## TUPLE\n",
    "> Tuple is a collection which is ordered and unchangeable. it is used to store multiple items in a single variable.\n"
   ]
  },
  {
   "cell_type": "code",
   "execution_count": null,
   "id": "3bb3a2d6",
   "metadata": {},
   "outputs": [],
   "source": [
    "#creating a tuple\n",
    "tuple_1=('emem','lionel','blessing')"
   ]
  },
  {
   "cell_type": "code",
   "execution_count": null,
   "id": "f6652d15",
   "metadata": {},
   "outputs": [],
   "source": [
    "#switching a tuple to a list\n",
    "list_8=list(tuple_1)\n",
    "print(list_8)"
   ]
  },
  {
   "cell_type": "code",
   "execution_count": null,
   "id": "c2cfa658",
   "metadata": {},
   "outputs": [],
   "source": [
    "#switching a list to a tuple\n",
    "tuple_1=tuple(list_8)\n",
    "print(tuple_1)"
   ]
  },
  {
   "cell_type": "code",
   "execution_count": 1,
   "id": "e988f9fa",
   "metadata": {},
   "outputs": [
    {
     "name": "stdout",
     "output_type": "stream",
     "text": [
      "{'salt', 'raspberries', 'strawberry', 'blueberry', 'mango'}\n"
     ]
    }
   ],
   "source": [
    "####Dealing with set2\n",
    "fruits_1={'orange','mango','watermelon',\"salt\",'pear','avocado'}\n",
    "fruits_2={'strawberry','blueberry','pear','mango','raspberries', \"salt\"}\n",
    "fruits_2.discard(\"pear\")\n",
    "print(fruits_2)"
   ]
  },
  {
   "cell_type": "code",
   "execution_count": null,
   "id": "8c9bba24",
   "metadata": {},
   "outputs": [],
   "source": [
    "#Using the update set operation\n",
    "# fruits_2=list(fruits_2)\n",
    "# print(fruits_2)\n",
    "fruits_1.update((\"fruits_2\", \"grains\",))\n",
    "print(fruits_1)"
   ]
  },
  {
   "cell_type": "code",
   "execution_count": null,
   "id": "76437da5",
   "metadata": {},
   "outputs": [],
   "source": [
    "#Using the remove set operation \n",
    "fruits_1.remove(\"mango\")"
   ]
  },
  {
   "cell_type": "code",
   "execution_count": null,
   "id": "16e54314",
   "metadata": {},
   "outputs": [],
   "source": [
    "#calling fruits_1\n",
    "fruits_1"
   ]
  },
  {
   "cell_type": "code",
   "execution_count": 42,
   "id": "afec40cb",
   "metadata": {},
   "outputs": [
    {
     "ename": "NameError",
     "evalue": "name 'fruits_1' is not defined",
     "output_type": "error",
     "traceback": [
      "\u001b[1;31m---------------------------------------------------------------------------\u001b[0m",
      "\u001b[1;31mNameError\u001b[0m                                 Traceback (most recent call last)",
      "Input \u001b[1;32mIn [42]\u001b[0m, in \u001b[0;36m<cell line: 2>\u001b[1;34m()\u001b[0m\n\u001b[0;32m      1\u001b[0m \u001b[38;5;66;03m#using the union set operation\u001b[39;00m\n\u001b[1;32m----> 2\u001b[0m \u001b[43mfruits_1\u001b[49m\u001b[38;5;241m.\u001b[39munion(fruits_2)\n",
      "\u001b[1;31mNameError\u001b[0m: name 'fruits_1' is not defined"
     ]
    }
   ],
   "source": [
    "#using the union set operation\n",
    "fruits_1.union(fruits_2)"
   ]
  },
  {
   "cell_type": "code",
   "execution_count": 43,
   "id": "1878f297",
   "metadata": {},
   "outputs": [
    {
     "ename": "NameError",
     "evalue": "name 'fruits_1' is not defined",
     "output_type": "error",
     "traceback": [
      "\u001b[1;31m---------------------------------------------------------------------------\u001b[0m",
      "\u001b[1;31mNameError\u001b[0m                                 Traceback (most recent call last)",
      "Input \u001b[1;32mIn [43]\u001b[0m, in \u001b[0;36m<cell line: 2>\u001b[1;34m()\u001b[0m\n\u001b[0;32m      1\u001b[0m \u001b[38;5;66;03m#Using the union sign to write a code\u001b[39;00m\n\u001b[1;32m----> 2\u001b[0m \u001b[43mfruits_1\u001b[49m\u001b[38;5;241m|\u001b[39mfruits_2\n",
      "\u001b[1;31mNameError\u001b[0m: name 'fruits_1' is not defined"
     ]
    }
   ],
   "source": [
    "#Using the union sign to write a code\n",
    "fruits_1|fruits_2"
   ]
  },
  {
   "cell_type": "code",
   "execution_count": null,
   "id": "edd0b264",
   "metadata": {},
   "outputs": [],
   "source": [
    "#using the intersection set operations\n",
    "fruits_1.intersection(fruits_2)"
   ]
  },
  {
   "cell_type": "code",
   "execution_count": null,
   "id": "e03666fb",
   "metadata": {},
   "outputs": [],
   "source": [
    "#using the intersection sign to write a code \n",
    "fruits_1 & fruits_2"
   ]
  },
  {
   "cell_type": "code",
   "execution_count": null,
   "id": "f63dc7bf",
   "metadata": {},
   "outputs": [],
   "source": [
    "#using the difference sign to write the code\n",
    "fruits_1 - fruits_2"
   ]
  },
  {
   "cell_type": "code",
   "execution_count": null,
   "id": "810e289c",
   "metadata": {},
   "outputs": [],
   "source": [
    "#Using the difference set operation\n",
    "fruits_1.difference(fruits_2)"
   ]
  },
  {
   "cell_type": "code",
   "execution_count": null,
   "id": "a083566e",
   "metadata": {},
   "outputs": [],
   "source": [
    "#USING THE SYMMETRIC DIFFERENCE\n",
    "fruits_1 ^ fruits_2"
   ]
  },
  {
   "cell_type": "code",
   "execution_count": null,
   "id": "df7a39d8",
   "metadata": {},
   "outputs": [],
   "source": [
    "fruits_1.symmetric_difference(fruits_2)"
   ]
  },
  {
   "cell_type": "code",
   "execution_count": null,
   "id": "86627722",
   "metadata": {},
   "outputs": [],
   "source": [
    "a={1,2,3,4,5,6,8}\n",
    "b={9,8,7,0,2,3,4}"
   ]
  },
  {
   "cell_type": "code",
   "execution_count": 46,
   "id": "cab8139c",
   "metadata": {},
   "outputs": [
    {
     "ename": "NameError",
     "evalue": "name 'a' is not defined",
     "output_type": "error",
     "traceback": [
      "\u001b[1;31m---------------------------------------------------------------------------\u001b[0m",
      "\u001b[1;31mNameError\u001b[0m                                 Traceback (most recent call last)",
      "Input \u001b[1;32mIn [46]\u001b[0m, in \u001b[0;36m<cell line: 1>\u001b[1;34m()\u001b[0m\n\u001b[1;32m----> 1\u001b[0m \u001b[43ma\u001b[49m\u001b[38;5;241m.\u001b[39missubset(b)\n",
      "\u001b[1;31mNameError\u001b[0m: name 'a' is not defined"
     ]
    }
   ],
   "source": [
    "a.issubset(b)"
   ]
  },
  {
   "cell_type": "code",
   "execution_count": null,
   "id": "dd0fcb2f",
   "metadata": {},
   "outputs": [],
   "source": [
    "a.issuperset(b)"
   ]
  },
  {
   "cell_type": "code",
   "execution_count": null,
   "id": "31b821e8",
   "metadata": {},
   "outputs": [],
   "source": [
    "a.isdisjoint(b)"
   ]
  },
  {
   "cell_type": "code",
   "execution_count": null,
   "id": "3e551a3e",
   "metadata": {},
   "outputs": [],
   "source": [
    "set_6="
   ]
  },
  {
   "cell_type": "markdown",
   "id": "cecaafa4",
   "metadata": {},
   "source": [
    "# DICTIONARY\n",
    "- using dictionary operations\n",
    "\n"
   ]
  },
  {
   "cell_type": "code",
   "execution_count": 3,
   "id": "43b91c27",
   "metadata": {},
   "outputs": [
    {
     "data": {
      "text/plain": [
       "dict"
      ]
     },
     "execution_count": 3,
     "metadata": {},
     "output_type": "execute_result"
    }
   ],
   "source": [
    "#creating a dictionary and naming it dict_1\n",
    "dict_1={'one':1,'two':2,'three':3,'four':4,'five':5}\n",
    "type(dict_1)"
   ]
  },
  {
   "cell_type": "code",
   "execution_count": 4,
   "id": "206725e8",
   "metadata": {},
   "outputs": [
    {
     "data": {
      "text/plain": [
       "1"
      ]
     },
     "execution_count": 4,
     "metadata": {},
     "output_type": "execute_result"
    }
   ],
   "source": [
    "dict_1['one']"
   ]
  },
  {
   "cell_type": "code",
   "execution_count": null,
   "id": "5987d0cc",
   "metadata": {},
   "outputs": [],
   "source": [
    "#creating a dictionary and naming it dict_2\n",
    "dict_2={'six':6,'seven':7,'eight':8,'nine':9,'ten':10}"
   ]
  },
  {
   "cell_type": "code",
   "execution_count": 5,
   "id": "f62e8ade",
   "metadata": {},
   "outputs": [
    {
     "data": {
      "text/plain": [
       "dict_values([1, 2, 3, 4, 5])"
      ]
     },
     "execution_count": 5,
     "metadata": {},
     "output_type": "execute_result"
    }
   ],
   "source": [
    "#values is used to obtain the actual list\n",
    "dict_1.values()"
   ]
  },
  {
   "cell_type": "code",
   "execution_count": 6,
   "id": "71eb0c3c",
   "metadata": {},
   "outputs": [
    {
     "data": {
      "text/plain": [
       "dict_keys(['one', 'two', 'three', 'four', 'five'])"
      ]
     },
     "execution_count": 6,
     "metadata": {},
     "output_type": "execute_result"
    }
   ],
   "source": [
    "#keys\n",
    "dict_1.keys()"
   ]
  },
  {
   "cell_type": "code",
   "execution_count": 7,
   "id": "8f93a100",
   "metadata": {},
   "outputs": [
    {
     "data": {
      "text/plain": [
       "3"
      ]
     },
     "execution_count": 7,
     "metadata": {},
     "output_type": "execute_result"
    }
   ],
   "source": [
    "#pop removes the specified item from a dictionary\n",
    "dict_1.pop('three')"
   ]
  },
  {
   "cell_type": "code",
   "execution_count": null,
   "id": "dce7d3a4",
   "metadata": {},
   "outputs": [],
   "source": [
    "dict_1"
   ]
  },
  {
   "cell_type": "code",
   "execution_count": 8,
   "id": "875158af",
   "metadata": {
    "scrolled": false
   },
   "outputs": [
    {
     "ename": "TypeError",
     "evalue": "dict.popitem() takes no arguments (3 given)",
     "output_type": "error",
     "traceback": [
      "\u001b[1;31m---------------------------------------------------------------------------\u001b[0m",
      "\u001b[1;31mTypeError\u001b[0m                                 Traceback (most recent call last)",
      "Input \u001b[1;32mIn [8]\u001b[0m, in \u001b[0;36m<cell line: 2>\u001b[1;34m()\u001b[0m\n\u001b[0;32m      1\u001b[0m \u001b[38;5;66;03m#popitem removes the last element on a list\u001b[39;00m\n\u001b[1;32m----> 2\u001b[0m \u001b[43mdict_1\u001b[49m\u001b[38;5;241;43m.\u001b[39;49m\u001b[43mpopitem\u001b[49m\u001b[43m(\u001b[49m\u001b[38;5;241;43m1\u001b[39;49m\u001b[43m,\u001b[49m\u001b[38;5;241;43m2\u001b[39;49m\u001b[43m,\u001b[49m\u001b[38;5;241;43m3\u001b[39;49m\u001b[43m)\u001b[49m\n",
      "\u001b[1;31mTypeError\u001b[0m: dict.popitem() takes no arguments (3 given)"
     ]
    }
   ],
   "source": [
    "#popitem removes the last element on a list\n",
    "dict_1.popitem(1,2,3)"
   ]
  },
  {
   "cell_type": "code",
   "execution_count": null,
   "id": "2b433abc",
   "metadata": {},
   "outputs": [],
   "source": [
    "dict_1"
   ]
  },
  {
   "cell_type": "code",
   "execution_count": null,
   "id": "c70359d9",
   "metadata": {
    "scrolled": true
   },
   "outputs": [],
   "source": [
    "#it shows the variable\n",
    "dict_1.get('two')"
   ]
  },
  {
   "cell_type": "code",
   "execution_count": null,
   "id": "f2298e7a",
   "metadata": {},
   "outputs": [],
   "source": []
  },
  {
   "cell_type": "code",
   "execution_count": null,
   "id": "4478de95",
   "metadata": {},
   "outputs": [],
   "source": [
    "#\n",
    "dict_1"
   ]
  },
  {
   "cell_type": "code",
   "execution_count": 9,
   "id": "1bf0d750",
   "metadata": {},
   "outputs": [],
   "source": [
    "#\n",
    "dict_3 = dict_1.copy()"
   ]
  },
  {
   "cell_type": "code",
   "execution_count": 10,
   "id": "5c9ddde7",
   "metadata": {},
   "outputs": [
    {
     "name": "stdout",
     "output_type": "stream",
     "text": [
      "{'one': 1, 'two': 2, 'four': 4, 'five': 5}\n"
     ]
    }
   ],
   "source": [
    "#\n",
    "print(dict_3)"
   ]
  },
  {
   "cell_type": "code",
   "execution_count": 11,
   "id": "011cb4bd",
   "metadata": {},
   "outputs": [
    {
     "ename": "NameError",
     "evalue": "name 'dict_2' is not defined",
     "output_type": "error",
     "traceback": [
      "\u001b[1;31m---------------------------------------------------------------------------\u001b[0m",
      "\u001b[1;31mNameError\u001b[0m                                 Traceback (most recent call last)",
      "Input \u001b[1;32mIn [11]\u001b[0m, in \u001b[0;36m<cell line: 1>\u001b[1;34m()\u001b[0m\n\u001b[1;32m----> 1\u001b[0m dict_1\u001b[38;5;241m.\u001b[39mupdate(\u001b[43mdict_2\u001b[49m)\n",
      "\u001b[1;31mNameError\u001b[0m: name 'dict_2' is not defined"
     ]
    }
   ],
   "source": [
    "dict_1.update(dict_2)"
   ]
  },
  {
   "cell_type": "code",
   "execution_count": null,
   "id": "3801ff63",
   "metadata": {},
   "outputs": [],
   "source": [
    "print(dict_1)"
   ]
  },
  {
   "cell_type": "code",
   "execution_count": null,
   "id": "7be8258f",
   "metadata": {},
   "outputs": [],
   "source": [
    "dict_1.clear()"
   ]
  },
  {
   "cell_type": "code",
   "execution_count": null,
   "id": "b0f220b0",
   "metadata": {},
   "outputs": [],
   "source": [
    "dict_1"
   ]
  },
  {
   "cell_type": "code",
   "execution_count": 10,
   "id": "55ea484a",
   "metadata": {},
   "outputs": [],
   "source": [
    "dict_4={'a':2,'b':3}"
   ]
  },
  {
   "cell_type": "code",
   "execution_count": 11,
   "id": "df0607ce",
   "metadata": {},
   "outputs": [
    {
     "data": {
      "text/plain": [
       "2"
      ]
     },
     "execution_count": 11,
     "metadata": {},
     "output_type": "execute_result"
    }
   ],
   "source": [
    "dict_4['a']"
   ]
  },
  {
   "cell_type": "code",
   "execution_count": 14,
   "id": "9c85121a",
   "metadata": {},
   "outputs": [],
   "source": [
    "dict_4['a']=45"
   ]
  },
  {
   "cell_type": "code",
   "execution_count": 15,
   "id": "d14a73a2",
   "metadata": {},
   "outputs": [
    {
     "name": "stdout",
     "output_type": "stream",
     "text": [
      "{'a': 45, 'b': 3}\n"
     ]
    }
   ],
   "source": [
    "print(dict_4)"
   ]
  },
  {
   "cell_type": "code",
   "execution_count": 16,
   "id": "77f9843a",
   "metadata": {},
   "outputs": [],
   "source": [
    "dict_4['b']=9"
   ]
  },
  {
   "cell_type": "code",
   "execution_count": 17,
   "id": "71428e92",
   "metadata": {},
   "outputs": [
    {
     "name": "stdout",
     "output_type": "stream",
     "text": [
      "{'a': 45, 'b': 9}\n"
     ]
    }
   ],
   "source": [
    "print(dict_4)"
   ]
  },
  {
   "cell_type": "code",
   "execution_count": 18,
   "id": "cb077d7e",
   "metadata": {},
   "outputs": [],
   "source": [
    "dict_4['c']=10"
   ]
  },
  {
   "cell_type": "code",
   "execution_count": 19,
   "id": "5fa9f6e8",
   "metadata": {},
   "outputs": [
    {
     "name": "stdout",
     "output_type": "stream",
     "text": [
      "{'a': 45, 'b': 9, 'c': 10}\n"
     ]
    }
   ],
   "source": [
    "print(dict_4)"
   ]
  },
  {
   "cell_type": "code",
   "execution_count": 20,
   "id": "1c0f6e0e",
   "metadata": {},
   "outputs": [],
   "source": [
    "dict_4['number']=123"
   ]
  },
  {
   "cell_type": "code",
   "execution_count": 21,
   "id": "2eab0246",
   "metadata": {},
   "outputs": [
    {
     "name": "stdout",
     "output_type": "stream",
     "text": [
      "{'a': 45, 'b': 9, 'c': 10, 'number': 123}\n"
     ]
    }
   ],
   "source": [
    "print(dict_4)"
   ]
  },
  {
   "cell_type": "code",
   "execution_count": 30,
   "id": "7f2e7883",
   "metadata": {},
   "outputs": [],
   "source": [
    "list_1=[1,2,3,4,5,6]"
   ]
  },
  {
   "cell_type": "code",
   "execution_count": null,
   "id": "c3d79ae1",
   "metadata": {},
   "outputs": [],
   "source": []
  },
  {
   "cell_type": "code",
   "execution_count": 35,
   "id": "ff2475e7",
   "metadata": {},
   "outputs": [],
   "source": [
    "list_2=['a','b','c','d','e','f']"
   ]
  },
  {
   "cell_type": "code",
   "execution_count": 36,
   "id": "8c610971",
   "metadata": {},
   "outputs": [],
   "source": [
    "zipped_1=zip(list_1,list_2)"
   ]
  },
  {
   "cell_type": "code",
   "execution_count": 37,
   "id": "d1a62b46",
   "metadata": {
    "collapsed": true
   },
   "outputs": [
    {
     "name": "stdout",
     "output_type": "stream",
     "text": [
      "<zip object at 0x00000169C2A70C80>\n"
     ]
    }
   ],
   "source": [
    "print(zipped_1)"
   ]
  },
  {
   "cell_type": "code",
   "execution_count": 38,
   "id": "70c2a5bb",
   "metadata": {},
   "outputs": [
    {
     "data": {
      "text/plain": [
       "<zip at 0x169c2a70c80>"
      ]
     },
     "execution_count": 38,
     "metadata": {},
     "output_type": "execute_result"
    }
   ],
   "source": [
    "zipped_1"
   ]
  },
  {
   "cell_type": "code",
   "execution_count": 39,
   "id": "429ef5be",
   "metadata": {},
   "outputs": [
    {
     "name": "stdout",
     "output_type": "stream",
     "text": [
      "[(1, 'a'), (2, 'b'), (3, 'c'), (4, 'd'), (5, 'e'), (6, 'f')]\n"
     ]
    }
   ],
   "source": [
    "zipped_1=list(zipped_1)\n",
    "print(zipped_1)"
   ]
  },
  {
   "cell_type": "code",
   "execution_count": 40,
   "id": "0856eda0",
   "metadata": {},
   "outputs": [],
   "source": [
    "dictionary=dict(zipped_1)"
   ]
  },
  {
   "cell_type": "code",
   "execution_count": 41,
   "id": "eed54b02",
   "metadata": {},
   "outputs": [
    {
     "name": "stdout",
     "output_type": "stream",
     "text": [
      "{1: 'a', 2: 'b', 3: 'c', 4: 'd', 5: 'e', 6: 'f'}\n"
     ]
    }
   ],
   "source": [
    "print(dictionary)"
   ]
  },
  {
   "cell_type": "markdown",
   "id": "4c5e4a3b",
   "metadata": {},
   "source": [
    "#Assignment"
   ]
  },
  {
   "cell_type": "code",
   "execution_count": null,
   "id": "06bfd718",
   "metadata": {},
   "outputs": [],
   "source": [
    "list_2=[1,2,3,4,5,6,7,8,9,10]"
   ]
  },
  {
   "cell_type": "code",
   "execution_count": null,
   "id": "928b66a5",
   "metadata": {},
   "outputs": [],
   "source": [
    "list_10=[10,9,8,7,6,5,4,3,2,1]"
   ]
  },
  {
   "cell_type": "code",
   "execution_count": null,
   "id": "019352a9",
   "metadata": {},
   "outputs": [],
   "source": [
    "d1=zip(list_2,list_10)\n",
    "# d1 = dict(d1)\n",
    "# d1"
   ]
  },
  {
   "cell_type": "code",
   "execution_count": null,
   "id": "c6aeb87c",
   "metadata": {},
   "outputs": [],
   "source": [
    "print(dict(d1))"
   ]
  },
  {
   "cell_type": "code",
   "execution_count": null,
   "id": "8efe54c0",
   "metadata": {},
   "outputs": [],
   "source": [
    "dict_4={1:2,3:4,5:6,7:8}"
   ]
  },
  {
   "cell_type": "code",
   "execution_count": null,
   "id": "5767a369",
   "metadata": {},
   "outputs": [],
   "source": [
    "dict_5={2:1,3:2,4:3,5:4}"
   ]
  },
  {
   "cell_type": "code",
   "execution_count": null,
   "id": "6e93dd5d",
   "metadata": {},
   "outputs": [],
   "source": [
    "dict_4.update((dict_5))"
   ]
  },
  {
   "cell_type": "code",
   "execution_count": null,
   "id": "ac18476f",
   "metadata": {},
   "outputs": [],
   "source": [
    "dict_4"
   ]
  },
  {
   "cell_type": "code",
   "execution_count": null,
   "id": "346b8e4a",
   "metadata": {},
   "outputs": [],
   "source": [
    "dict_5={'history' : 'my life story',  'Status' : 'Married', 'Hub' : 'EOA'}\n",
    "dict_5"
   ]
  },
  {
   "cell_type": "code",
   "execution_count": null,
   "id": "dc82e171",
   "metadata": {},
   "outputs": [],
   "source": [
    "dict_5.values()"
   ]
  },
  {
   "cell_type": "code",
   "execution_count": null,
   "id": "ebbcb94d",
   "metadata": {},
   "outputs": [],
   "source": [
    "print(dict_5['history'])"
   ]
  },
  {
   "cell_type": "markdown",
   "id": "15b7d56a",
   "metadata": {},
   "source": [
    "# Loops in python\n",
    "- for loop\n",
    "- while loop"
   ]
  },
  {
   "cell_type": "code",
   "execution_count": 20,
   "id": "055fb278",
   "metadata": {},
   "outputs": [
    {
     "name": "stdout",
     "output_type": "stream",
     "text": [
      "0\n",
      "1\n",
      "2\n",
      "3\n",
      "4\n",
      "5\n",
      "6\n",
      "7\n",
      "8\n",
      "9\n"
     ]
    }
   ],
   "source": [
    "#creation of for loop\n",
    "for i in range(10):\n",
    "    print(i)"
   ]
  },
  {
   "cell_type": "code",
   "execution_count": 18,
   "id": "e21db4e4",
   "metadata": {},
   "outputs": [
    {
     "name": "stdout",
     "output_type": "stream",
     "text": [
      "cool\n",
      "cool\n",
      "cool\n",
      "cool\n",
      "cool\n"
     ]
    }
   ],
   "source": [
    "b=0\n",
    "while b!=5:\n",
    "    print('cool')\n",
    "    b+=1"
   ]
  },
  {
   "cell_type": "code",
   "execution_count": 26,
   "id": "ee6cf452",
   "metadata": {},
   "outputs": [
    {
     "name": "stdout",
     "output_type": "stream",
     "text": [
      "40\n",
      "39\n",
      "38\n",
      "37\n",
      "36\n",
      "35\n",
      "34\n",
      "33\n",
      "32\n",
      "31\n",
      "30\n",
      "29\n",
      "28\n",
      "27\n",
      "26\n",
      "25\n",
      "24\n",
      "23\n",
      "22\n",
      "21\n",
      "20\n",
      "19\n",
      "18\n",
      "17\n",
      "16\n",
      "15\n",
      "14\n",
      "13\n",
      "12\n",
      "11\n",
      "10\n",
      "9\n"
     ]
    }
   ],
   "source": [
    "b=40\n",
    "while b>8:\n",
    "    print(b)\n",
    "    b-=1"
   ]
  },
  {
   "cell_type": "code",
   "execution_count": 30,
   "id": "e4e106e7",
   "metadata": {},
   "outputs": [
    {
     "name": "stdout",
     "output_type": "stream",
     "text": [
      "1\n",
      "2\n",
      "4\n",
      "6\n",
      "8\n"
     ]
    }
   ],
   "source": [
    "#first was the creation of dict and then looping it automatically resulting in the keys of the dict\n",
    "d2={1:2,2:3,4:5,6:7,8:9}\n",
    "for i in d2:\n",
    "    print(i)"
   ]
  },
  {
   "cell_type": "code",
   "execution_count": 32,
   "id": "be5ff4f1",
   "metadata": {},
   "outputs": [
    {
     "name": "stdout",
     "output_type": "stream",
     "text": [
      "1\n",
      "2\n",
      "4\n",
      "6\n",
      "8\n"
     ]
    }
   ],
   "source": [
    "#using the for loop to get the keys of the dictionary specifying the key been wanted\n",
    "for i in d2.keys():\n",
    "    print(i)"
   ]
  },
  {
   "cell_type": "code",
   "execution_count": 33,
   "id": "a8da0339",
   "metadata": {},
   "outputs": [
    {
     "name": "stdout",
     "output_type": "stream",
     "text": [
      "2\n",
      "3\n",
      "5\n",
      "7\n",
      "9\n"
     ]
    }
   ],
   "source": [
    "#using the for loop to get the values of the dictionary specifying the value is what is needed\n",
    "for i in d2.values():\n",
    "    print(i)"
   ]
  },
  {
   "cell_type": "code",
   "execution_count": 39,
   "id": "f63b845f",
   "metadata": {},
   "outputs": [
    {
     "name": "stdout",
     "output_type": "stream",
     "text": [
      "cool\n",
      "cool\n",
      "cool\n",
      "cool\n",
      "cool\n"
     ]
    }
   ],
   "source": [
    "#instatiating b with value 0\n",
    "b=0\n",
    "#creating the conditional loop(while b not equal to 5)\n",
    "while b!=5:\n",
    "# if b!=5,print(cool)\n",
    "    print('cool')\n",
    "#incrementing the value of b for every print operation\n",
    "    b+=1    "
   ]
  },
  {
   "cell_type": "code",
   "execution_count": 40,
   "id": "9cfb7f9a",
   "metadata": {},
   "outputs": [],
   "source": [
    "#Endless or infinite loop\n",
    "# b=0\n",
    "# while b!=5:\n",
    "#     print('cool')"
   ]
  },
  {
   "cell_type": "code",
   "execution_count": 41,
   "id": "a4e3f74d",
   "metadata": {},
   "outputs": [
    {
     "name": "stdout",
     "output_type": "stream",
     "text": [
      "1\n",
      "2\n",
      "4\n",
      "6\n",
      "8\n"
     ]
    }
   ],
   "source": [
    "for i in d2.keys():\n",
    "    print(i)    "
   ]
  },
  {
   "cell_type": "code",
   "execution_count": 46,
   "id": "b80907dd",
   "metadata": {},
   "outputs": [
    {
     "name": "stdout",
     "output_type": "stream",
     "text": [
      "10\n",
      "0\n",
      "1\n",
      "2\n",
      "3\n",
      "4\n",
      "5\n",
      "6\n",
      "7\n",
      "8\n",
      "9\n",
      "0\n",
      "1\n",
      "2\n",
      "3\n",
      "4\n",
      "5\n",
      "6\n",
      "7\n",
      "8\n",
      "0\n",
      "1\n",
      "2\n",
      "3\n",
      "4\n",
      "5\n",
      "6\n",
      "7\n",
      "0\n",
      "1\n",
      "2\n",
      "3\n",
      "4\n",
      "5\n",
      "6\n",
      "0\n",
      "1\n",
      "2\n",
      "3\n",
      "4\n",
      "5\n",
      "0\n",
      "1\n",
      "2\n",
      "3\n"
     ]
    }
   ],
   "source": [
    "n=10\n",
    "while n>4:\n",
    "    print(n)\n",
    "    n-=1\n",
    "    for i in range (n):\n",
    "        print(i)\n",
    "    \n"
   ]
  },
  {
   "cell_type": "code",
   "execution_count": 6,
   "id": "4eb4a344",
   "metadata": {},
   "outputs": [
    {
     "data": {
      "text/plain": [
       "1"
      ]
     },
     "execution_count": 6,
     "metadata": {},
     "output_type": "execute_result"
    }
   ],
   "source": [
    "a=2\n",
    "a-=1\n",
    "a"
   ]
  },
  {
   "cell_type": "code",
   "execution_count": 7,
   "id": "20ca0e83",
   "metadata": {},
   "outputs": [
    {
     "name": "stdout",
     "output_type": "stream",
     "text": [
      "0\n",
      "1\n",
      "2\n",
      "3\n"
     ]
    }
   ],
   "source": [
    "for i in range(4):\n",
    "    print(i)"
   ]
  },
  {
   "cell_type": "code",
   "execution_count": 9,
   "id": "60daccc4",
   "metadata": {},
   "outputs": [
    {
     "name": "stdout",
     "output_type": "stream",
     "text": [
      "-1\n",
      "0\n",
      "1\n",
      "2\n",
      "3\n"
     ]
    }
   ],
   "source": [
    "my_list=[1,2,3,4,5]\n",
    "for item in my_list:\n",
    "    print(item-2)\n",
    "    \n"
   ]
  },
  {
   "cell_type": "code",
   "execution_count": 11,
   "id": "cd32cab9",
   "metadata": {},
   "outputs": [
    {
     "name": "stdout",
     "output_type": "stream",
     "text": [
      "100\n",
      "101\n",
      "102\n",
      "103\n",
      "104\n",
      "105\n",
      "106\n",
      "107\n",
      "108\n",
      "109\n",
      "110\n",
      "111\n",
      "112\n",
      "113\n",
      "114\n",
      "115\n",
      "116\n",
      "117\n",
      "118\n",
      "119\n",
      "120\n"
     ]
    }
   ],
   "source": [
    "for i in range(100,121):\n",
    "    print(i)"
   ]
  },
  {
   "cell_type": "code",
   "execution_count": 12,
   "id": "ccc20ce1",
   "metadata": {},
   "outputs": [
    {
     "name": "stdout",
     "output_type": "stream",
     "text": [
      "[3, 4, 5, 6, 7]\n"
     ]
    }
   ],
   "source": [
    "new_list=[]\n",
    "for item in my_list:\n",
    "    new_list.append(item+2)\n",
    "print(new_list)    "
   ]
  },
  {
   "cell_type": "code",
   "execution_count": 20,
   "id": "0f2b8e04",
   "metadata": {},
   "outputs": [
    {
     "name": "stdout",
     "output_type": "stream",
     "text": [
      "[1, 4, 9, 16, 25]\n"
     ]
    }
   ],
   "source": [
    "your_list=[]\n",
    "for item in my_list:\n",
    "    your_list.append(item**2)\n",
    "    \n",
    "print(your_list)    "
   ]
  },
  {
   "cell_type": "code",
   "execution_count": 29,
   "id": "f47442cd",
   "metadata": {},
   "outputs": [
    {
     "name": "stdout",
     "output_type": "stream",
     "text": [
      "[1, 4, 6, 8, 10]\n"
     ]
    }
   ],
   "source": [
    "our_list=[]\n",
    "for item in my_list[0:2]:\n",
    "    our_list.append(item**2)\n",
    "    \n",
    "for item in my_list[2:]:\n",
    "    our_list.append(item+item)\n",
    "\n",
    "print(our_list)    \n",
    "    "
   ]
  },
  {
   "cell_type": "code",
   "execution_count": 28,
   "id": "98bfa150",
   "metadata": {},
   "outputs": [
    {
     "data": {
      "text/plain": [
       "[1, 2, 3, 4, 5]"
      ]
     },
     "execution_count": 28,
     "metadata": {},
     "output_type": "execute_result"
    }
   ],
   "source": [
    "my_list"
   ]
  },
  {
   "cell_type": "code",
   "execution_count": 36,
   "id": "09d6a762",
   "metadata": {},
   "outputs": [
    {
     "name": "stdout",
     "output_type": "stream",
     "text": [
      "<class 'dict'>\n"
     ]
    }
   ],
   "source": [
    "d4={'one':1,'two':2,'three':3,'four':4,'five':5,'six':6,'seven':7,'eight':8,'nine':9,'ten':10}\n",
    "print(type(d4))"
   ]
  },
  {
   "cell_type": "code",
   "execution_count": 38,
   "id": "37833c86",
   "metadata": {},
   "outputs": [
    {
     "name": "stdout",
     "output_type": "stream",
     "text": [
      "['one', 'two', 'three', 'four', 'five', 'six', 'seven', 'eight', 'nine', 'ten']\n"
     ]
    }
   ],
   "source": [
    "f9=[]\n",
    "for item in d4.keys():\n",
    "    f9.append(item)\n",
    "print(f9)\n"
   ]
  },
  {
   "cell_type": "code",
   "execution_count": 39,
   "id": "1b67a79e",
   "metadata": {},
   "outputs": [
    {
     "name": "stdout",
     "output_type": "stream",
     "text": [
      "[1, 2, 3, 4, 5, 6, 7, 8, 9, 10]\n"
     ]
    }
   ],
   "source": [
    "e8=[]\n",
    "for item in d4.values():\n",
    "    e8.append(item)\n",
    "print(e8)    \n"
   ]
  },
  {
   "cell_type": "code",
   "execution_count": 42,
   "id": "cbe96e62",
   "metadata": {},
   "outputs": [
    {
     "name": "stdout",
     "output_type": "stream",
     "text": [
      "my loop is running 40\n",
      "my loop is running 38\n",
      "my loop is running 36\n",
      "my loop is running 34\n",
      "my loop is running 32\n",
      "my loop is running 30\n",
      "my loop is running 28\n",
      "my loop is running 26\n",
      "my loop is running 24\n",
      "my loop is running 22\n",
      "my loop is running 20\n",
      "my loop is running 18\n",
      "my loop is running 16\n",
      "my loop is running 14\n",
      "my loop is running 12\n",
      "my loop is running 10\n"
     ]
    }
   ],
   "source": [
    "b=40\n",
    "while b>=10:\n",
    "    print('my loop is running',b)\n",
    "    b-=2"
   ]
  },
  {
   "cell_type": "markdown",
   "id": "fd57f225",
   "metadata": {},
   "source": [
    "# conditional statements "
   ]
  },
  {
   "cell_type": "code",
   "execution_count": 5,
   "id": "ba7eb3c8",
   "metadata": {},
   "outputs": [
    {
     "name": "stdout",
     "output_type": "stream",
     "text": [
      "Enter your age27\n",
      "congratulations you've been accepted\n"
     ]
    }
   ],
   "source": [
    "Age=int(input('Enter your age'))\n",
    "if Age>10:\n",
    "    print(\"congratulations you've been accepted\")\n",
    "else:\n",
    "    print(\"sorry you are underage for this class\")"
   ]
  },
  {
   "cell_type": "code",
   "execution_count": 14,
   "id": "b119291a",
   "metadata": {},
   "outputs": [
    {
     "name": "stdout",
     "output_type": "stream",
     "text": [
      "Input your score: 75\n",
      "Input your score: 89\n",
      "Congrats Blessing you have gotten the scholarship\n"
     ]
    }
   ],
   "source": [
    "Samuel=int(input('Input your score: '))\n",
    "Blessing=int(input('Input your score: '))\n",
    "if Samuel>Blessing:\n",
    "    print(\"Congrats Samuel you have gotten the scholarship\")\n",
    "else:\n",
    "    print(\"Congrats Blessing you have gotten the scholarship\")\n",
    "    \n",
    "    "
   ]
  },
  {
   "cell_type": "code",
   "execution_count": 27,
   "id": "af1fe4c0",
   "metadata": {},
   "outputs": [
    {
     "name": "stdout",
     "output_type": "stream",
     "text": [
      "Enter your name:  Popoola Bright\n",
      "Input your score: 200\n",
      "\n",
      "your name:Popoola Olamide\n",
      "Input your score: 150\n",
      "Congrats Popoola Bright you have gotten the scholarship\n"
     ]
    }
   ],
   "source": [
    "first_person = input('Enter your name:  ')\n",
    "first_score = int(input('Input your score: '))\n",
    "\n",
    "second_person = input('\\nyour name:'  )\n",
    "second_score= int(input('Input your score: '))\n",
    "\n",
    "if first_score>second_score:\n",
    "    print(\"Congrats {} you have gotten the scholarship\".format(first_person))\n",
    "else:\n",
    "    print(\"Congrats {} you have gotten the scholarship\".format(second_person))\n",
    "    \n",
    "    "
   ]
  },
  {
   "cell_type": "code",
   "execution_count": 28,
   "id": "e0ac193c",
   "metadata": {},
   "outputs": [
    {
     "name": "stdout",
     "output_type": "stream",
     "text": [
      "enter your name: Pops\n",
      "your name is Pops, thanks\n"
     ]
    }
   ],
   "source": [
    "name = input(\"enter your name: \")\n",
    "print(\"your name is {}, thanks\".format(name))"
   ]
  },
  {
   "cell_type": "code",
   "execution_count": null,
   "id": "07f3e17c",
   "metadata": {},
   "outputs": [],
   "source": []
  }
 ],
 "metadata": {
  "kernelspec": {
   "display_name": "Python 3 (ipykernel)",
   "language": "python",
   "name": "python3"
  },
  "language_info": {
   "codemirror_mode": {
    "name": "ipython",
    "version": 3
   },
   "file_extension": ".py",
   "mimetype": "text/x-python",
   "name": "python",
   "nbconvert_exporter": "python",
   "pygments_lexer": "ipython3",
   "version": "3.10.6"
  }
 },
 "nbformat": 4,
 "nbformat_minor": 5
}
