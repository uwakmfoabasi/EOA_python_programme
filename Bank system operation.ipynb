{
 "cells": [
  {
   "cell_type": "markdown",
   "id": "9138710d",
   "metadata": {},
   "source": [
    "## Program to simulate bank operations\n",
    " using a dictionary to store names(keys) an access the account and the value as the cash amount in the accoount"
   ]
  },
  {
   "cell_type": "code",
   "execution_count": 5,
   "id": "3df3fe34",
   "metadata": {},
   "outputs": [
    {
     "name": "stdout",
     "output_type": "stream",
     "text": [
      "\n",
      "1) create an account\n",
      "2) check account balance\n",
      "3) deposit\n",
      "4) withdrawel\n",
      "5) transfer\n",
      "choose an option1\n",
      "\n",
      "Enter your name: dan\n",
      "input 0 if your are not depositing anything\n",
      "Deposit an amount: 0\n"
     ]
    }
   ],
   "source": [
    "database = {}  # create a dictionary to store and access the value in the programe\n",
    "\n",
    "\n",
    "class bank: # create a class so when instantiated runs the init functton\n",
    "    \n",
    "    def __init__(self):# INIT FUNCTION CONTAINING THE MAIN MENU OF THE BANK OPERATION\n",
    "        stock = database\n",
    "        self.stock = stock\n",
    "        print()\n",
    "        print(\"1) create an account\")\n",
    "        print(\"2) check account balance\")\n",
    "        print(\"3) deposit\")\n",
    "        print(\"4) withdrawel\")\n",
    "        print(\"5) transfer\")\n",
    "\n",
    "        choice = int(input(\"choose an option\"))\n",
    "        print()\n",
    "\n",
    "        if choice == 1:  # IF STATEMENT TO HELP USERS DECIDE ON WHAT OPERATION THE WANT TO DO \n",
    "            self.create_account()\n",
    "        elif choice == 2:\n",
    "            self.check_acct_balance()\n",
    "        elif choice == 3:\n",
    "            self.deposit()\n",
    "        elif choice == 4:\n",
    "            self.withdraw()\n",
    "        elif choice == 5:\n",
    "            self.transfer()\n",
    "        else:\n",
    "            print('INVALID OPTION')\n",
    "    \n",
    "    # A function in the class that performs the task of creating a new key value pair in the dictionary\n",
    "    def create_account(self): \n",
    "        name = input('Enter your name: ')\n",
    "        print('input 0 if your are not depositing anything')\n",
    "        amount = int(input('Deposit an amount: '))\n",
    "        name = name.lower()\n",
    "        database[name] = amount\n",
    "    \n",
    "    # A function in the class that check for the value of a key if it exist in the dictionary\n",
    "    # by collecting user input and checking if such exist in the dictionary\n",
    "    def check_acct_balance(self): \n",
    "        uracct = input('Enter your account name: ')\n",
    "        uracct = uracct.lower()\n",
    "        print()\n",
    "        if uracct in database:\n",
    "            print(f'Hi {uracct}')\n",
    "            print(f'Your account balance is: {database[uracct]}')\n",
    "        else:\n",
    "            print(f'The account Name {uracct} does not exist')\n",
    "        \n",
    "    \n",
    "    # A function in the class task with simulating deposition in a real bank\n",
    "    # it uses user name(keyu) to access the account and allow for an increase in the value(cash in account) in the dictionary\n",
    "    def deposit(self):\n",
    "        uracct = input('Enter your account name: ')\n",
    "        uracct = uracct.lower()\n",
    "        print()\n",
    "        if uracct in database:\n",
    "            deposit = int(input('Enter an amount'))\n",
    "            currentacct = database[uracct]+deposit\n",
    "            database[uracct]=currentacct\n",
    "            print(f'{uracct} You have been credited with: {deposit}')\n",
    "            print(f'{uracct} Your account balance is: {database[uracct]}')\n",
    "        else:\n",
    "            print(f'The account Name {uracct} does not exist')\n",
    "             \n",
    "    # A function in the class task with simulating deposition in a real bank\n",
    "    # it uses name as the key to access the dictionary and makes operation and dicisions on the value depending on how much the user want to withdraw\n",
    "    def withdraw(self):\n",
    "        uracct = input('Enter your account name: ')\n",
    "        uracct = uracct.lower()\n",
    "        print()\n",
    "        if uracct in database:\n",
    "            deposit = int(input('Enter an amount'))\n",
    "            if database[uracct] >= deposit:\n",
    "                currentacct = database[uracct]-withdraw\n",
    "                database[uracct]=currentacct\n",
    "                print(f'{uracct} You have been credited with: {withdraw}')\n",
    "                print(f'{uracct} Your account balance is: {database[uracct]}')\n",
    "            else:\n",
    "                print('INSUFFICIENT FUNDS IN YOUR ACCOUNT')\n",
    "        else:\n",
    "            print(f'The account Name {uracct.upper()} does not exist')\n",
    "            \n",
    "    # it simulate real bank transfer of cash but only works on transfer groups(the sender and recipient of the cash) that are in the dictionary any other transfer will not be permited\n",
    "    # it collect input from the user on the name(used to access the account) of the two account(sender and recipient) and make operation's and dicisions on the account;s(sender and recipient accounts) value in the dictionary\n",
    "    def transfer(self):\n",
    "        uracct = input('Enter your account name: ')\n",
    "        acct = uracct.lower()\n",
    "        print()\n",
    "        if acct in database:\n",
    "            transfer_to = input('Enter the name of the account you want to transfer to: ')\n",
    "            transfer_to = transfer_to.lower()\n",
    "            if transfer_to in database:\n",
    "                transfer = int(input('Enter an amount'))\n",
    "                if database[acct] >= transfer:\n",
    "                    currentacct = database[acct]-transfer\n",
    "                    database[acct] = currentacct\n",
    "                    currenttransfer_to = database[transfer_to] + transfer\n",
    "                    database[transfer_to] = currenttransfer_to\n",
    "                    print(f'{uracct} You have been debited with: {transfer}')\n",
    "                    print(f'{uracct} Your account balance is: {database[acct]}')\n",
    "                else:\n",
    "                    print('INSUFFICIENT FUNDS TO PERFORM THIS TRANSACTION')\n",
    "            else:\n",
    "                print(f'{transfer_to} is an INVALID ACCOUNT NAME')\n",
    "        else:\n",
    "            print(f'The account Name {uracct} does not exist')\n",
    "        \n",
    "    \n",
    "user = bank()"
   ]
  },
  {
   "cell_type": "code",
   "execution_count": 3,
   "id": "53232f08",
   "metadata": {},
   "outputs": [
    {
     "name": "stdout",
     "output_type": "stream",
     "text": [
      "{'uwakmfo': 0}\n"
     ]
    }
   ],
   "source": [
    "print(database)"
   ]
  },
  {
   "cell_type": "code",
   "execution_count": null,
   "id": "8b0ffa69",
   "metadata": {},
   "outputs": [],
   "source": []
  }
 ],
 "metadata": {
  "kernelspec": {
   "display_name": "Python 3 (ipykernel)",
   "language": "python",
   "name": "python3"
  },
  "language_info": {
   "codemirror_mode": {
    "name": "ipython",
    "version": 3
   },
   "file_extension": ".py",
   "mimetype": "text/x-python",
   "name": "python",
   "nbconvert_exporter": "python",
   "pygments_lexer": "ipython3",
   "version": "3.10.6"
  }
 },
 "nbformat": 4,
 "nbformat_minor": 5
}
