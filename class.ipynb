{
 "cells": [
  {
   "cell_type": "code",
   "execution_count": 1,
   "id": "01b069f6",
   "metadata": {},
   "outputs": [],
   "source": [
    "#progran that adds two integers using lambda function\n",
    "add2 = lambda x,y: x+y"
   ]
  },
  {
   "cell_type": "code",
   "execution_count": 2,
   "id": "66ddcf58",
   "metadata": {},
   "outputs": [
    {
     "data": {
      "text/plain": [
       "6"
      ]
     },
     "execution_count": 2,
     "metadata": {},
     "output_type": "execute_result"
    }
   ],
   "source": [
    "add2(1,5)"
   ]
  },
  {
   "cell_type": "markdown",
   "id": "1b2cfbab",
   "metadata": {},
   "source": [
    "## object oriented programing(oop)"
   ]
  },
  {
   "cell_type": "code",
   "execution_count": 23,
   "id": "610e3be6",
   "metadata": {},
   "outputs": [
    {
     "name": "stdout",
     "output_type": "stream",
     "text": [
      "i am 3 years old\n"
     ]
    }
   ],
   "source": [
    "# defining a class in object oriented programming\n",
    "class iden:\n",
    "    def __init__(self,age,name,gender): # defining the init function \n",
    "        self.age = age\n",
    "        self.gender = gender\n",
    "        self.name = name\n",
    "    #age = int(input())\n",
    "    def ager(self):\n",
    "        print(f'i am {self.age} years old')\n",
    "obj=iden(3,'mike','male') # instantiating the class\n",
    "obj.ager() # calling amethod from the class"
   ]
  },
  {
   "cell_type": "code",
   "execution_count": 19,
   "id": "4d4ff1bb",
   "metadata": {},
   "outputs": [
    {
     "data": {
      "text/plain": [
       "'mike'"
      ]
     },
     "execution_count": 19,
     "metadata": {},
     "output_type": "execute_result"
    }
   ],
   "source": [
    "obj.name"
   ]
  },
  {
   "cell_type": "code",
   "execution_count": 32,
   "id": "27a53a5f",
   "metadata": {},
   "outputs": [],
   "source": [
    "# defining a class in object oriented programming\n",
    "class calc:\n",
    "    def __init__(self,num1,num2): # defining the init function\n",
    "        self.num1 = num1\n",
    "        self.num2 = num2\n",
    "    \n",
    "    def add(self): # defining a method in the class that adds two number's\n",
    "        return (self.num1 + self.num2)\n",
    "    \n",
    "    def sub(self): # defining a method that subtract two number's\n",
    "        return (self.num1 - self.num2)\n",
    "    \n",
    "    def multiple(self):# defining a method that multiply two number's\n",
    "        return (self.num1 * self.num2)\n",
    "    \n",
    "obj_1 = calc(4,5) # instantiating the class or defining the object"
   ]
  },
  {
   "cell_type": "code",
   "execution_count": 33,
   "id": "ea324a72",
   "metadata": {},
   "outputs": [
    {
     "data": {
      "text/plain": [
       "9"
      ]
     },
     "execution_count": 33,
     "metadata": {},
     "output_type": "execute_result"
    }
   ],
   "source": [
    "obj_1.add()# calling the method add in the class"
   ]
  },
  {
   "cell_type": "code",
   "execution_count": 34,
   "id": "8b8bbf16",
   "metadata": {},
   "outputs": [
    {
     "data": {
      "text/plain": [
       "-1"
      ]
     },
     "execution_count": 34,
     "metadata": {},
     "output_type": "execute_result"
    }
   ],
   "source": [
    "obj_1.sub()# calling the method sub in the class"
   ]
  },
  {
   "cell_type": "code",
   "execution_count": 35,
   "id": "5ee3df9b",
   "metadata": {},
   "outputs": [
    {
     "data": {
      "text/plain": [
       "20"
      ]
     },
     "execution_count": 35,
     "metadata": {},
     "output_type": "execute_result"
    }
   ],
   "source": [
    "obj_1.multiple()# calling the method multiply in the class"
   ]
  },
  {
   "cell_type": "code",
   "execution_count": 6,
   "id": "8011ff4c",
   "metadata": {},
   "outputs": [
    {
     "name": "stdout",
     "output_type": "stream",
     "text": [
      "Enter your name: b\n",
      "Hi b you account balance is: 100\n"
     ]
    }
   ],
   "source": [
    "# using a for loop to iterate over a dictionary to find a value\n",
    "name = input('Enter your name: ')\n",
    "dict_1 = {'a':10,'b':100,'c':1000,'d':20}\n",
    "for keys in dict_1:\n",
    "    if name==keys:\n",
    "        print(f'Hi {keys} you account balance is: {dict_1[keys]}')"
   ]
  }
 ],
 "metadata": {
  "kernelspec": {
   "display_name": "Python 3 (ipykernel)",
   "language": "python",
   "name": "python3"
  },
  "language_info": {
   "codemirror_mode": {
    "name": "ipython",
    "version": 3
   },
   "file_extension": ".py",
   "mimetype": "text/x-python",
   "name": "python",
   "nbconvert_exporter": "python",
   "pygments_lexer": "ipython3",
   "version": "3.10.6"
  }
 },
 "nbformat": 4,
 "nbformat_minor": 5
}
